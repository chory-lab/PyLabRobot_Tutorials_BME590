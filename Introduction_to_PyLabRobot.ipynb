{
 "cells": [
  {
   "cell_type": "markdown",
   "id": "baf9fb61-2fc5-446c-9c4a-18801c7d7afa",
   "metadata": {},
   "source": [
    "# **Welcome to PyLabRobot!**\n",
    "\n",
    "PyLabRobot *(PLR)* is a universal Python interface to liquid-handling robots. Liquid-handling robots aspirate and dispense precise volumes\n",
    "of liquid in a Cartesian coordinate system, essentially the same as hand pipetting.\n",
    "\n",
    "PLR defines a universal interface class called **LiquidHandler** that provides generic methods for controlling robots\n",
    "such as aspirate and dispense. This class can be instantiated with one of several backends (or drivers)\n",
    "that convert generic commands to machine-specific commands. This makes it easy to write code that will\n",
    "be translatable across many different machines.\n",
    "\n",
    "First we will import `LiquidHandler`, a backend called `ChatterBoxBackend` that prints the text\n",
    "output of our commands, a class `Visualizer` that provides a visualization of the robot deck as we\n",
    "run commands, and a class `STARLetDeck` that will represent the deck of a Hamilton Microlab STARLet, one of\n",
    "the most widely used liquid handling robots."
   ]
  },
  {
   "cell_type": "markdown",
   "id": "9268a564-0e57-4ace-9b22-68fcffbfcc2f",
   "metadata": {},
   "source": [
    "### Imports"
   ]
  },
  {
   "cell_type": "code",
   "execution_count": null,
   "id": "f8bcf094-3c3a-41c4-b0e8-5d2caeee9ca9",
   "metadata": {},
   "outputs": [],
   "source": [
    "from pylabrobot.liquid_handling import LiquidHandler\n",
<<<<<<< HEAD
    "from pylabrobot.liquid_handling import LiquidHandlerChatterboxBackend\n",
=======
    "from pylabrobot.liquid_handling.backends import LiquidHandlerChatterboxBackend\n",
>>>>>>> 6a6c9e4680597cfa3c4700380b4ab6581e9220ea
    "from pylabrobot.visualizer.visualizer import Visualizer\n",
    "from pylabrobot.resources.hamilton import STARLetDeck\n",
    "from pylabrobot.resources.opentrons import OTDeck\n",
    "\n",
    "from pylabrobot.resources.opentrons.load import *\n",
    "from pylabrobot.resources.opentrons.plates import *\n",
    "\n",
    "import opentrons"
   ]
  },
  {
   "cell_type": "markdown",
   "id": "3c611cf0-ac3f-4e4d-8f48-b9d2241f5670",
   "metadata": {},
   "source": [
    "### Liquid Handler: High level abstraction, thing that takes in aspirate and dispense commands, abstract wrapper for all robot backends\n",
    "Give input backend, what robot you are planning to use, PLR is hardware agnostic, you use the abstract liquid handler scaffold and then pass in \n",
    "the details of your specific robot\n",
    "### Deck: What deck is your robot using, again it is hardware agnostic.\n",
    "\n",
    "* Restart kernel is your friend when working with PLR"
   ]
  },
  {
   "cell_type": "markdown",
   "id": "213a4b8c-098e-4e0e-bb9f-446ba5b1709a",
   "metadata": {},
   "source": [
    "## Deck Set-Up"
   ]
  },
  {
   "cell_type": "code",
   "execution_count": null,
   "id": "8b372972-d6dc-454b-95eb-d9941405621b",
   "metadata": {},
   "outputs": [],
   "source": [
    "# Call setup to instantiate your specific instance of the robot\n",
    "\n",
    "# Hamilton\n",
    "#lh = LiquidHandler(backend=LiquidHandlerChatterboxBackend(), deck=STARLetDeck())\n",
    "\n",
    "# OpenTrons\n",
    "lh = LiquidHandler(backend=LiquidHandlerChatterboxBackend(), deck=OTDeck())\n",
    "\n",
    "# Use await because setup can take many minutes. Use await when you have a long function call that you\n",
    "# want to be able to do other things while its happening\n",
    "await lh.setup()"
   ]
  },
  {
   "cell_type": "code",
   "execution_count": null,
   "id": "0324171c-101d-4b3d-9103-a0137c620174",
   "metadata": {},
   "outputs": [],
   "source": [
    "# If you want to follow along in real time, instantiate the protocol visualizer\n",
    "vis = Visualizer(resource=lh)\n",
    "await vis.setup()"
   ]
  },
  {
   "cell_type": "markdown",
   "id": "42bf486e-b8cb-4918-a2e6-a9955e71c46b",
   "metadata": {},
   "source": [
    "### Put some labware on the deck!"
   ]
  },
  {
   "cell_type": "markdown",
   "id": "59b03cfb-8e42-441e-9887-e7a87453d7f7",
   "metadata": {},
   "source": [
    "Now we will import a tip carrier, a plate carrier, a plate, and a tip rack."
   ]
  },
  {
   "cell_type": "code",
   "execution_count": null,
   "id": "7bb36402-2303-4d2e-bd3e-4e10a29e891c",
   "metadata": {},
   "outputs": [],
   "source": [
    "from pylabrobot.resources import (\n",
    "    TIP_CAR_480_A00,\n",
    "    PLT_CAR_L5AC_A00,\n",
    "    Cos_96_DW_1mL,\n",
    "    HTF_L,\n",
    "    opentrons_96_tiprack_300ul,\n",
    "    opentrons_24_tuberack_eppendorf_2ml_safelock_snapcap\n",
    ")\n"
   ]
  },
  {
   "cell_type": "markdown",
   "id": "8cf826da-7d57-49ce-8303-d40501f50e2b",
   "metadata": {},
   "source": [
    "### Hamilton Tip Racks"
   ]
  },
  {
   "cell_type": "code",
   "execution_count": null,
   "id": "25faa001-8f09-43af-ac2a-5b6b6b21d47a",
   "metadata": {},
   "outputs": [],
   "source": [
    "# Hamilton Tips\n",
    "tip_car = TIP_CAR_480_A00(name='tip carrier')\n",
    "tip_car[0] = tip_rack1 = HTF_L(name='tips_01', with_tips=False)\n",
    "tip_car[1] = tip_rack2 = HTF_L(name='tips_02', with_tips=False)\n",
    "tip_car[2] = tip_rack3 = HTF_L(name='tips_03', with_tips=False)\n",
    "tip_car[3] = tip_rack4 = HTF_L(name='tips_04', with_tips=False)\n",
    "tip_car[4] = tip_rack5 = HTF_L(name='tips_05', with_tips=False)\n",
    "lh.deck.assign_child_resource(tip_car, rails=15)\n"
   ]
  },
  {
   "cell_type": "code",
   "execution_count": null,
   "id": "5e7c1218-70e9-4905-b15a-16af3259c79f",
   "metadata": {
    "scrolled": true
   },
   "outputs": [],
   "source": [
    "plt_car = PLT_CAR_L5AC_A00(name='plate carrier')\n",
    "plt_car[0] = plate_1 = Cos_96_DW_1mL(name='plate_01')\n",
    "plt_car[1] = plate_2 = Cos_96_DW_1mL(name='plate_02')\n",
    "plt_car[2] = plate_3 = Cos_96_DW_1mL(name='plate_03')\n",
    "lh.deck.assign_child_resource(plt_car, rails=8)\n"
   ]
  },
  {
   "cell_type": "code",
   "execution_count": null,
   "id": "4421b04c-d894-4aaa-a9f4-7f51a16dc773",
   "metadata": {},
   "outputs": [],
   "source": [
    "tip_rack_1.fill()"
   ]
  },
  {
   "cell_type": "code",
   "execution_count": null,
   "id": "74928e32-3910-434c-b0af-5bdc9c03a51e",
   "metadata": {},
   "outputs": [],
   "source": [
    "tip_rack4 = lh.deck.get_resource(\"tips_04\")\n",
    "tip_rack4.set_tip_state([[True]*6 + [False]*6]*8)\n",
    "tip_rack3.set_tip_state([[True, False]*6]*8)\n",
    "tip_rack2.set_tip_state([[True, True, False, False]*3]*8)\n"
   ]
  },
  {
   "cell_type": "markdown",
   "id": "2d2fba32-6be8-4248-88b2-ab74fb2047af",
   "metadata": {},
   "source": [
    "### OpenTrons Tip Racks"
   ]
  },
  {
   "cell_type": "code",
   "execution_count": null,
   "id": "28b14d77-7cc3-4721-9f10-0867d9137a38",
   "metadata": {
    "scrolled": true
   },
   "outputs": [],
   "source": [
    "# OT2 Tips\n",
    "\n",
    "tip_rack_1 = opentrons_96_tiprack_300ul(\"tip_rack_1\")\n",
    "tip_rack_2 = opentrons_96_tiprack_300ul(\"tip_rack_2\")\n",
    "\n",
    "lh.deck.assign_child_at_slot(tip_rack_1, 7)\n",
    "lh.deck.assign_child_at_slot(tip_rack_2, 8)"
   ]
  },
  {
   "cell_type": "code",
   "execution_count": null,
   "id": "7d16498c-5b03-4454-a197-dc1faf8a3a6f",
   "metadata": {},
   "outputs": [],
   "source": [
    "tip_rack2 = lh.deck.get_resource(\"tip_rack_2\")\n",
    "tip_rack2.set_tip_state([[True]*6 + [False]*6]*8)"
   ]
  },
  {
   "cell_type": "markdown",
   "id": "a06b3c22-5498-43dd-8e1e-ae0203c24f23",
   "metadata": {},
   "source": [
    "### OpenTrons Plates"
   ]
  },
  {
   "cell_type": "code",
   "execution_count": null,
   "id": "16547556-5fd6-4af8-a37b-dd6a1d209981",
   "metadata": {},
   "outputs": [],
   "source": [
    "plate_1 = corning_96_wellplate_360ul_flat('plate_1')\n",
    "plate_2 = corning_96_wellplate_360ul_flat('plate_2')\n",
    "\n",
    "lh.deck.assign_child_at_slot(plate_1, 1)\n",
    "lh.deck.assign_child_at_slot(plate_2, 2)"
   ]
  },
  {
   "cell_type": "code",
   "execution_count": null,
   "id": "534179d6-96aa-419f-832e-dbf6b19de0fa",
   "metadata": {},
   "outputs": [],
   "source": [
    "plate_1_liquids = [[('water', 200)]]*96\n",
    "plate_1.set_well_liquids(plate_1_liquids)\n",
    "plate_2_liquids = [[(None, 100)], [(None, 100)]]*(96//2)\n",
    "plate_2.set_well_liquids(plate_2_liquids)\n"
   ]
  },
  {
   "cell_type": "markdown",
   "id": "fa620baf-955e-4671-b86c-8288545c599b",
   "metadata": {},
   "source": [
    "### OpenTrons Tube Racks"
   ]
  },
  {
   "cell_type": "code",
   "execution_count": null,
   "id": "aa3468cd-f660-4c2b-8568-ed3160172174",
   "metadata": {},
   "outputs": [],
   "source": [
    "rack_1 = opentrons_24_tuberack_eppendorf_2ml_safelock_snapcap('rack_1')\n",
    "rack_2 = opentrons_24_tuberack_eppendorf_2ml_safelock_snapcap('rack_2')\n",
    "\n",
    "lh.deck.assign_child_at_slot(rack_1, 4)\n",
    "lh.deck.assign_child_at_slot(rack_2, 5)"
   ]
  },
  {
   "cell_type": "code",
   "execution_count": null,
   "id": "b65570bc-1589-43ec-9aa1-ece9c50187cd",
   "metadata": {},
   "outputs": [],
   "source": [
    "rack_1_liquids = [[('water', 200)]]*6\n",
    "rack_1.set_liquids(plate_1_liquids)\n"
   ]
  },
  {
   "cell_type": "code",
   "execution_count": null,
   "id": "02e18147-5337-4c75-9fd4-4243499d3108",
   "metadata": {
    "scrolled": true
   },
   "outputs": [],
   "source": [
    "rack_1.get_all_children()"
   ]
  },
  {
   "cell_type": "code",
   "execution_count": null,
   "id": "23cb1bc9-cb4f-4d70-b0f7-7727a2586561",
   "metadata": {},
   "outputs": [],
   "source": [
    "rack_1.enable_volume_trackers()"
   ]
  },
  {
   "cell_type": "code",
   "execution_count": null,
   "id": "a467ab96-e1cb-4932-9e47-731831f29148",
   "metadata": {
    "scrolled": true
   },
   "outputs": [],
   "source": [
    "dir(rack_1['A1'][0])"
   ]
  },
  {
   "cell_type": "code",
   "execution_count": null,
   "id": "4354a042-96d4-4e93-916e-1cc2a25f2c1e",
   "metadata": {},
   "outputs": [],
   "source": [
    "tube1 = rack_1[0][0]"
   ]
  },
  {
   "cell_type": "code",
   "execution_count": null,
   "id": "8e5166dd-23a4-4d5b-b869-5fd4ca167f77",
   "metadata": {
    "scrolled": true
   },
   "outputs": [],
   "source": [
    "tube1.tracker.set_liquids([(None, 0)])"
   ]
  },
  {
   "cell_type": "code",
   "execution_count": null,
   "id": "0a1fd4b0-7089-43be-bfde-de3b43d2b44b",
   "metadata": {},
   "outputs": [],
   "source": [
    "tube1.tracker.add_liquid(None, 2000)"
   ]
  },
  {
   "cell_type": "code",
   "execution_count": null,
   "id": "cdbb78b9-39d4-4036-924a-a358d8c8c9a8",
   "metadata": {},
   "outputs": [],
   "source": [
    "tube1.tracker.liquids"
   ]
  },
  {
   "cell_type": "code",
   "execution_count": null,
   "id": "bebe9703-f00c-4975-9620-5eb3d0416001",
   "metadata": {},
   "outputs": [],
   "source": [
    "await lh.pick_up_tips(tip_rack_1[\"A1\"])\n",
    "time.sleep(1)\n",
    "\n",
    "await lh.aspirate(rack_1[\"A1\"], vols=[100])\n",
    "time.sleep(1)\n",
    "\n",
    "await lh.dispense(plate_2[\"A1\"], vols=[100])\n",
    "time.sleep(1)\n",
    "\n",
    "await lh.return_tips()"
   ]
  },
  {
   "cell_type": "code",
   "execution_count": null,
   "id": "62fe14fa-2c25-413a-a982-db510f6d8c0b",
   "metadata": {},
   "outputs": [],
   "source": [
    "await lh.return_tips()"
   ]
  },
  {
   "cell_type": "code",
   "execution_count": null,
   "id": "ace711fd-1823-4056-b408-7f2f24be5338",
   "metadata": {},
   "outputs": [],
   "source": [
    "rack_1.get[0].add_liquid([('water', 200)])"
   ]
  },
  {
   "cell_type": "code",
   "execution_count": null,
   "id": "21e6aa85-cbe1-4c8e-bbe7-1e33eaccdc20",
   "metadata": {},
   "outputs": [],
   "source": [
    "from pylabrobot.resources import set_tip_tracking, set_volume_tracking\n",
    "set_tip_tracking(True), set_volume_tracking(True)"
   ]
  },
  {
   "cell_type": "code",
   "execution_count": null,
   "id": "8055306d-042d-4d83-a685-139a221d8665",
   "metadata": {},
   "outputs": [],
   "source": [
    "import time"
   ]
  },
  {
   "cell_type": "code",
   "execution_count": null,
   "id": "7eda3c13-e750-4823-8327-5e5baba6ac2d",
   "metadata": {},
   "outputs": [],
   "source": [
    "await lh.pick_up_tips(tip_rack_1[\"A1\", \"B2\", \"C3\", \"D4\"])\n",
    "time.sleep(2)\n",
    "await lh.drop_tips(tip_rack_1[\"A1\", \"B2\", \"C3\", \"D4\"])\n"
   ]
  },
  {
   "cell_type": "code",
   "execution_count": null,
   "id": "464f5dd7-8d85-407b-b4d6-693340f90c5e",
   "metadata": {
    "scrolled": true
   },
   "outputs": [],
   "source": [
    "await lh.pick_up_tips(tip_rack_1[\"A1\"])"
   ]
  },
  {
   "cell_type": "code",
   "execution_count": null,
   "id": "1e4c9bb2-58e9-4c4d-a9d4-fa65db824f20",
   "metadata": {},
   "outputs": [],
   "source": [
    "await lh.aspirate(plate_1[\"A2\"], vols=[100])"
   ]
  },
  {
   "cell_type": "code",
   "execution_count": null,
   "id": "ce90182d-607b-4e93-bc9a-1d7dfef80e66",
   "metadata": {},
   "outputs": [],
   "source": [
    "await lh.dispense(plate_2[\"A1\"], vols=[100])"
   ]
  },
  {
   "cell_type": "code",
   "execution_count": null,
   "id": "711f3290-e36d-4ae9-88a3-80374709cc36",
   "metadata": {},
   "outputs": [],
   "source": [
    "await lh.return_tips()"
   ]
  },
  {
   "cell_type": "code",
   "execution_count": null,
   "id": "eb52fd76-d92a-43b3-8550-e688eed4c587",
   "metadata": {},
   "outputs": [],
   "source": [
    "await lh.pick_up_tips96(tip_rack_1)"
   ]
  },
  {
   "cell_type": "code",
   "execution_count": null,
   "id": "c9cbce02-0f7e-4e51-94e7-2635002d757b",
   "metadata": {},
   "outputs": [],
   "source": [
    "await lh.aspirate96(plate_1, volume=100)"
   ]
  },
  {
   "cell_type": "code",
   "execution_count": null,
   "id": "ca18de2b-92f4-43c8-a0e7-dab9aa51ec38",
   "metadata": {},
   "outputs": [],
   "source": [
    "await lh.dispense96(plate_2, volume=100)"
   ]
  },
  {
   "cell_type": "code",
   "execution_count": null,
   "id": "12ef3847-c203-4332-84bd-6631dd90aea5",
   "metadata": {},
   "outputs": [],
   "source": [
    "await lh.drop_tips96(tip_rack_1)\n"
   ]
  },
  {
   "cell_type": "code",
   "execution_count": null,
   "id": "08fb2161-4fc7-4312-9864-e85a46f02bcc",
   "metadata": {},
   "outputs": [],
   "source": [
    "await vis.stop()\n"
   ]
  },
  {
   "cell_type": "code",
   "execution_count": null,
   "id": "a8525dc3-7866-4b4d-b870-8c64313bba28",
   "metadata": {},
   "outputs": [],
   "source": []
  }
 ],
 "metadata": {
  "kernelspec": {
   "display_name": "Python 3 (ipykernel)",
   "language": "python",
   "name": "python3"
  },
  "language_info": {
   "codemirror_mode": {
    "name": "ipython",
    "version": 3
   },
   "file_extension": ".py",
   "mimetype": "text/x-python",
   "name": "python",
   "nbconvert_exporter": "python",
   "pygments_lexer": "ipython3",
   "version": "3.11.0"
  }
 },
 "nbformat": 4,
 "nbformat_minor": 5
}
