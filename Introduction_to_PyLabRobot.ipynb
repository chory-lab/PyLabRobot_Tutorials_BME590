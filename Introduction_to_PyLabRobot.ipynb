{
 "cells": [
  {
   "cell_type": "code",
   "execution_count": 2,
   "id": "f8bcf094-3c3a-41c4-b0e8-5d2caeee9ca9",
   "metadata": {},
   "outputs": [],
   "source": [
    "from pylabrobot.liquid_handling import LiquidHandler\n",
    "from pylabrobot.liquid_handling.backends import ChatterBoxBackend\n",
    "from pylabrobot.visualizer.visualizer import Visualizer\n"
   ]
  },
  {
   "cell_type": "code",
   "execution_count": 3,
   "id": "8b372972-d6dc-454b-95eb-d9941405621b",
   "metadata": {},
   "outputs": [],
   "source": [
    "from pylabrobot.resources.hamilton import STARLetDeck\n",
    "lh = LiquidHandler(backend=ChatterBoxBackend(), deck=STARLetDeck())\n"
   ]
  },
  {
   "cell_type": "code",
   "execution_count": 15,
   "id": "64679da2-cdf3-4e74-af43-60a6be1bada5",
   "metadata": {},
   "outputs": [
    {
     "name": "stdout",
     "output_type": "stream",
     "text": [
      "Setting up the robot.\n",
      "Resource deck was assigned to the robot.\n",
      "Resource trash was assigned to the robot.\n",
      "Resource tip carrier was assigned to the robot.\n",
      "Resource plate carrier was assigned to the robot.\n"
     ]
    }
   ],
   "source": [
    "await lh.setup()"
   ]
  },
  {
   "cell_type": "code",
   "execution_count": 5,
   "id": "0324171c-101d-4b3d-9103-a0137c620174",
   "metadata": {},
   "outputs": [
    {
     "name": "stdout",
     "output_type": "stream",
     "text": [
      "Websocket server started at http://127.0.0.1:2121\n",
      "File server started at http://127.0.0.1:1337 . Open this URL in your browser.\n"
     ]
    }
   ],
   "source": [
    "vis = Visualizer(resource=lh)\n",
    "await vis.setup()\n"
   ]
  },
  {
   "cell_type": "code",
   "execution_count": 6,
   "id": "7bb36402-2303-4d2e-bd3e-4e10a29e891c",
   "metadata": {},
   "outputs": [],
   "source": [
    "from pylabrobot.resources import (\n",
    "    TIP_CAR_480_A00,\n",
    "    PLT_CAR_L5AC_A00,\n",
    "    Cos_96_DW_1mL,\n",
    "    HTF_L\n",
    ")\n"
   ]
  },
  {
   "cell_type": "code",
   "execution_count": 7,
   "id": "25faa001-8f09-43af-ac2a-5b6b6b21d47a",
   "metadata": {},
   "outputs": [
    {
     "name": "stdout",
     "output_type": "stream",
     "text": [
      "Resource tip carrier was assigned to the robot.\n"
     ]
    }
   ],
   "source": [
    "tip_car = TIP_CAR_480_A00(name='tip carrier')\n",
    "tip_car[0] = tip_rack1 = HTF_L(name='tips_01', with_tips=False)\n",
    "tip_car[1] = tip_rack2 = HTF_L(name='tips_02', with_tips=False)\n",
    "tip_car[2] = tip_rack3 = HTF_L(name='tips_03', with_tips=False)\n",
    "tip_car[3] = tip_rack4 = HTF_L(name='tips_04', with_tips=False)\n",
    "tip_car[4] = tip_rack5 = HTF_L(name='tips_05', with_tips=False)\n",
    "lh.deck.assign_child_resource(tip_car, rails=15)\n"
   ]
  },
  {
   "cell_type": "code",
   "execution_count": 8,
   "id": "5e7c1218-70e9-4905-b15a-16af3259c79f",
   "metadata": {},
   "outputs": [
    {
     "name": "stdout",
     "output_type": "stream",
     "text": [
      "Resource plate carrier was assigned to the robot.\n"
     ]
    }
   ],
   "source": [
    "plt_car = PLT_CAR_L5AC_A00(name='plate carrier')\n",
    "plt_car[0] = plate_1 = Cos_96_DW_1mL(name='plate_01')\n",
    "plt_car[1] = plate_2 = Cos_96_DW_1mL(name='plate_02')\n",
    "plt_car[2] = plate_3 = Cos_96_DW_1mL(name='plate_03')\n",
    "lh.deck.assign_child_resource(plt_car, rails=8)\n"
   ]
  },
  {
   "cell_type": "code",
   "execution_count": 9,
   "id": "4421b04c-d894-4aaa-a9f4-7f51a16dc773",
   "metadata": {},
   "outputs": [],
   "source": [
    "tip_rack1.fill()\n"
   ]
  },
  {
   "cell_type": "code",
   "execution_count": 10,
   "id": "74928e32-3910-434c-b0af-5bdc9c03a51e",
   "metadata": {},
   "outputs": [],
   "source": [
    "tip_rack4 = lh.deck.get_resource(\"tips_04\")\n",
    "tip_rack4.set_tip_state([[True]*6 + [False]*6]*8)\n",
    "tip_rack3.set_tip_state([[True, False]*6]*8)\n",
    "tip_rack2.set_tip_state([[True, True, False, False]*3]*8)\n"
   ]
  },
  {
   "cell_type": "code",
   "execution_count": 11,
   "id": "534179d6-96aa-419f-832e-dbf6b19de0fa",
   "metadata": {},
   "outputs": [],
   "source": [
    "plate_1_liquids = [[(None, 500)]]*96\n",
    "plate_1.set_well_liquids(plate_1_liquids)\n",
    "plate_2_liquids = [[(None, 100)], [(None, 500)]]*(96//2)\n",
    "plate_2.set_well_liquids(plate_2_liquids)\n"
   ]
  },
  {
   "cell_type": "code",
   "execution_count": 12,
   "id": "21e6aa85-cbe1-4c8e-bbe7-1e33eaccdc20",
   "metadata": {},
   "outputs": [
    {
     "data": {
      "text/plain": [
       "(None, None)"
      ]
     },
     "execution_count": 12,
     "metadata": {},
     "output_type": "execute_result"
    }
   ],
   "source": [
    "from pylabrobot.resources import set_tip_tracking, set_volume_tracking\n",
    "set_tip_tracking(True), set_volume_tracking(True)\n"
   ]
  },
  {
   "cell_type": "code",
   "execution_count": 19,
   "id": "7eda3c13-e750-4823-8327-5e5baba6ac2d",
   "metadata": {},
   "outputs": [
    {
     "name": "stdout",
     "output_type": "stream",
     "text": [
      "Picking up tips [Pickup(resource=TipSpot(name=tips_01_tipspot_0_0, location=(007.200, 068.300, -83.500), size_x=9.0, size_y=9.0, size_z=0, category=tip_spot), offset=None, tip=HamiltonTip(HIGH_VOLUME, has_filter=True, maximal_volume=1065, fitting_depth=8, total_tip_length=95.1, pickup_method=OUT_OF_RACK)), Pickup(resource=TipSpot(name=tips_01_tipspot_1_1, location=(016.200, 059.300, -83.500), size_x=9.0, size_y=9.0, size_z=0, category=tip_spot), offset=None, tip=HamiltonTip(HIGH_VOLUME, has_filter=True, maximal_volume=1065, fitting_depth=8, total_tip_length=95.1, pickup_method=OUT_OF_RACK)), Pickup(resource=TipSpot(name=tips_01_tipspot_2_2, location=(025.200, 050.300, -83.500), size_x=9.0, size_y=9.0, size_z=0, category=tip_spot), offset=None, tip=HamiltonTip(HIGH_VOLUME, has_filter=True, maximal_volume=1065, fitting_depth=8, total_tip_length=95.1, pickup_method=OUT_OF_RACK)), Pickup(resource=TipSpot(name=tips_01_tipspot_3_3, location=(034.200, 041.300, -83.500), size_x=9.0, size_y=9.0, size_z=0, category=tip_spot), offset=None, tip=HamiltonTip(HIGH_VOLUME, has_filter=True, maximal_volume=1065, fitting_depth=8, total_tip_length=95.1, pickup_method=OUT_OF_RACK))].\n",
      "Dropping tips [Drop(resource=TipSpot(name=tips_01_tipspot_0_0, location=(007.200, 068.300, -83.500), size_x=9.0, size_y=9.0, size_z=0, category=tip_spot), offset=None, tip=HamiltonTip(HIGH_VOLUME, has_filter=True, maximal_volume=1065, fitting_depth=8, total_tip_length=95.1, pickup_method=OUT_OF_RACK)), Drop(resource=TipSpot(name=tips_01_tipspot_1_1, location=(016.200, 059.300, -83.500), size_x=9.0, size_y=9.0, size_z=0, category=tip_spot), offset=None, tip=HamiltonTip(HIGH_VOLUME, has_filter=True, maximal_volume=1065, fitting_depth=8, total_tip_length=95.1, pickup_method=OUT_OF_RACK)), Drop(resource=TipSpot(name=tips_01_tipspot_2_2, location=(025.200, 050.300, -83.500), size_x=9.0, size_y=9.0, size_z=0, category=tip_spot), offset=None, tip=HamiltonTip(HIGH_VOLUME, has_filter=True, maximal_volume=1065, fitting_depth=8, total_tip_length=95.1, pickup_method=OUT_OF_RACK)), Drop(resource=TipSpot(name=tips_01_tipspot_3_3, location=(034.200, 041.300, -83.500), size_x=9.0, size_y=9.0, size_z=0, category=tip_spot), offset=None, tip=HamiltonTip(HIGH_VOLUME, has_filter=True, maximal_volume=1065, fitting_depth=8, total_tip_length=95.1, pickup_method=OUT_OF_RACK))].\n"
     ]
    }
   ],
   "source": [
    "await lh.pick_up_tips(tip_rack1[\"A1\", \"B2\", \"C3\", \"D4\"])\n",
    "await lh.drop_tips(tip_rack1[\"A1\", \"B2\", \"C3\", \"D4\"])\n"
   ]
  },
  {
   "cell_type": "code",
   "execution_count": 21,
   "id": "8ca125a2-0fbd-4b1d-850b-29078dc48d9a",
   "metadata": {},
   "outputs": [
    {
     "ename": "NoTipError",
     "evalue": "Tip spot does not have a tip.",
     "output_type": "error",
     "traceback": [
      "\u001b[1;31m---------------------------------------------------------------------------\u001b[0m",
      "\u001b[1;31mNoTipError\u001b[0m                                Traceback (most recent call last)",
      "\u001b[1;32m~\\AppData\\Local\\Temp/ipykernel_38416/2437794437.py\u001b[0m in \u001b[0;36m<cell line: 1>\u001b[1;34m()\u001b[0m\n\u001b[1;32m----> 1\u001b[1;33m \u001b[1;32mawait\u001b[0m \u001b[0mlh\u001b[0m\u001b[1;33m.\u001b[0m\u001b[0mpick_up_tips96\u001b[0m\u001b[1;33m(\u001b[0m\u001b[0mtip_rack1\u001b[0m\u001b[1;33m)\u001b[0m\u001b[1;33m\u001b[0m\u001b[1;33m\u001b[0m\u001b[0m\n\u001b[0m",
      "\u001b[1;32m~\\AppData\\Local\\Programs\\Python\\Python310\\lib\\site-packages\\pylabrobot\\liquid_handling\\liquid_handler.py\u001b[0m in \u001b[0;36mpick_up_tips96\u001b[1;34m(self, tip_rack, offset, **backend_kwargs)\u001b[0m\n\u001b[0;32m   1029\u001b[0m       \u001b[1;32mif\u001b[0m \u001b[1;32mnot\u001b[0m \u001b[0mdoes_tip_tracking\u001b[0m\u001b[1;33m(\u001b[0m\u001b[1;33m)\u001b[0m \u001b[1;32mand\u001b[0m \u001b[0mself\u001b[0m\u001b[1;33m.\u001b[0m\u001b[0mhead96\u001b[0m\u001b[1;33m[\u001b[0m\u001b[0mi\u001b[0m\u001b[1;33m]\u001b[0m\u001b[1;33m.\u001b[0m\u001b[0mhas_tip\u001b[0m\u001b[1;33m:\u001b[0m\u001b[1;33m\u001b[0m\u001b[1;33m\u001b[0m\u001b[0m\n\u001b[0;32m   1030\u001b[0m         \u001b[0mself\u001b[0m\u001b[1;33m.\u001b[0m\u001b[0mhead96\u001b[0m\u001b[1;33m[\u001b[0m\u001b[0mi\u001b[0m\u001b[1;33m]\u001b[0m\u001b[1;33m.\u001b[0m\u001b[0mremove_tip\u001b[0m\u001b[1;33m(\u001b[0m\u001b[1;33m)\u001b[0m\u001b[1;33m\u001b[0m\u001b[1;33m\u001b[0m\u001b[0m\n\u001b[1;32m-> 1031\u001b[1;33m       \u001b[0mself\u001b[0m\u001b[1;33m.\u001b[0m\u001b[0mhead96\u001b[0m\u001b[1;33m[\u001b[0m\u001b[0mi\u001b[0m\u001b[1;33m]\u001b[0m\u001b[1;33m.\u001b[0m\u001b[0madd_tip\u001b[0m\u001b[1;33m(\u001b[0m\u001b[0mtip_spot\u001b[0m\u001b[1;33m.\u001b[0m\u001b[0mget_tip\u001b[0m\u001b[1;33m(\u001b[0m\u001b[1;33m)\u001b[0m\u001b[1;33m,\u001b[0m \u001b[0morigin\u001b[0m\u001b[1;33m=\u001b[0m\u001b[0mtip_spot\u001b[0m\u001b[1;33m,\u001b[0m \u001b[0mcommit\u001b[0m\u001b[1;33m=\u001b[0m\u001b[1;32mFalse\u001b[0m\u001b[1;33m)\u001b[0m\u001b[1;33m\u001b[0m\u001b[1;33m\u001b[0m\u001b[0m\n\u001b[0m\u001b[0;32m   1032\u001b[0m       \u001b[1;32mif\u001b[0m \u001b[0mdoes_tip_tracking\u001b[0m\u001b[1;33m(\u001b[0m\u001b[1;33m)\u001b[0m \u001b[1;32mand\u001b[0m \u001b[1;32mnot\u001b[0m \u001b[0mtip_spot\u001b[0m\u001b[1;33m.\u001b[0m\u001b[0mtracker\u001b[0m\u001b[1;33m.\u001b[0m\u001b[0mis_disabled\u001b[0m\u001b[1;33m:\u001b[0m\u001b[1;33m\u001b[0m\u001b[1;33m\u001b[0m\u001b[0m\n\u001b[0;32m   1033\u001b[0m         \u001b[0mtip_spot\u001b[0m\u001b[1;33m.\u001b[0m\u001b[0mtracker\u001b[0m\u001b[1;33m.\u001b[0m\u001b[0mremove_tip\u001b[0m\u001b[1;33m(\u001b[0m\u001b[1;33m)\u001b[0m\u001b[1;33m\u001b[0m\u001b[1;33m\u001b[0m\u001b[0m\n",
      "\u001b[1;32m~\\AppData\\Local\\Programs\\Python\\Python310\\lib\\site-packages\\pylabrobot\\resources\\tip_rack.py\u001b[0m in \u001b[0;36mget_tip\u001b[1;34m(self)\u001b[0m\n\u001b[0;32m     47\u001b[0m       \u001b[0mself\u001b[0m\u001b[1;33m.\u001b[0m\u001b[0mtracker\u001b[0m\u001b[1;33m.\u001b[0m\u001b[0madd_tip\u001b[0m\u001b[1;33m(\u001b[0m\u001b[0mself\u001b[0m\u001b[1;33m.\u001b[0m\u001b[0mmake_tip\u001b[0m\u001b[1;33m(\u001b[0m\u001b[1;33m)\u001b[0m\u001b[1;33m)\u001b[0m\u001b[1;33m\u001b[0m\u001b[1;33m\u001b[0m\u001b[0m\n\u001b[0;32m     48\u001b[0m \u001b[1;33m\u001b[0m\u001b[0m\n\u001b[1;32m---> 49\u001b[1;33m     \u001b[1;32mreturn\u001b[0m \u001b[0mself\u001b[0m\u001b[1;33m.\u001b[0m\u001b[0mtracker\u001b[0m\u001b[1;33m.\u001b[0m\u001b[0mget_tip\u001b[0m\u001b[1;33m(\u001b[0m\u001b[1;33m)\u001b[0m\u001b[1;33m\u001b[0m\u001b[1;33m\u001b[0m\u001b[0m\n\u001b[0m\u001b[0;32m     50\u001b[0m \u001b[1;33m\u001b[0m\u001b[0m\n\u001b[0;32m     51\u001b[0m   \u001b[1;32mdef\u001b[0m \u001b[0mhas_tip\u001b[0m\u001b[1;33m(\u001b[0m\u001b[0mself\u001b[0m\u001b[1;33m)\u001b[0m \u001b[1;33m->\u001b[0m \u001b[0mbool\u001b[0m\u001b[1;33m:\u001b[0m\u001b[1;33m\u001b[0m\u001b[1;33m\u001b[0m\u001b[0m\n",
      "\u001b[1;32m~\\AppData\\Local\\Programs\\Python\\Python310\\lib\\site-packages\\pylabrobot\\resources\\tip_tracker.py\u001b[0m in \u001b[0;36mget_tip\u001b[1;34m(self)\u001b[0m\n\u001b[0;32m     60\u001b[0m \u001b[1;33m\u001b[0m\u001b[0m\n\u001b[0;32m     61\u001b[0m     \u001b[1;32mif\u001b[0m \u001b[0mself\u001b[0m\u001b[1;33m.\u001b[0m\u001b[0m_tip\u001b[0m \u001b[1;32mis\u001b[0m \u001b[1;32mNone\u001b[0m\u001b[1;33m:\u001b[0m\u001b[1;33m\u001b[0m\u001b[1;33m\u001b[0m\u001b[0m\n\u001b[1;32m---> 62\u001b[1;33m       \u001b[1;32mraise\u001b[0m \u001b[0mNoTipError\u001b[0m\u001b[1;33m(\u001b[0m\u001b[1;34mf\"{self.thing} does not have a tip.\"\u001b[0m\u001b[1;33m)\u001b[0m\u001b[1;33m\u001b[0m\u001b[1;33m\u001b[0m\u001b[0m\n\u001b[0m\u001b[0;32m     63\u001b[0m     \u001b[1;32mreturn\u001b[0m \u001b[0mself\u001b[0m\u001b[1;33m.\u001b[0m\u001b[0m_tip\u001b[0m\u001b[1;33m\u001b[0m\u001b[1;33m\u001b[0m\u001b[0m\n\u001b[0;32m     64\u001b[0m \u001b[1;33m\u001b[0m\u001b[0m\n",
      "\u001b[1;31mNoTipError\u001b[0m: Tip spot does not have a tip."
     ]
    }
   ],
   "source": [
    "await lh.pick_up_tips96(tip_rack1)\n"
   ]
  }
 ],
 "metadata": {
  "kernelspec": {
   "display_name": "Python 3 (ipykernel)",
   "language": "python",
   "name": "python3"
  },
  "language_info": {
   "codemirror_mode": {
    "name": "ipython",
    "version": 3
   },
   "file_extension": ".py",
   "mimetype": "text/x-python",
   "name": "python",
   "nbconvert_exporter": "python",
   "pygments_lexer": "ipython3",
   "version": "3.11.0"
  }
 },
 "nbformat": 4,
 "nbformat_minor": 5
}
