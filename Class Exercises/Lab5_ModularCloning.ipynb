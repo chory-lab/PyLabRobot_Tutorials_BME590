{
 "cells": [
  {
   "cell_type": "code",
   "execution_count": 1,
   "metadata": {},
   "outputs": [],
   "source": [
    "from pylabrobot.liquid_handling import LiquidHandler\n",
    "from pylabrobot.liquid_handling import LiquidHandlerChatterboxBackend\n",
    "from pylabrobot.visualizer.visualizer import Visualizer\n",
    "from pylabrobot.resources.opentrons import OTDeck\n",
    "\n",
    "from pylabrobot.resources.opentrons.load import *\n",
    "from pylabrobot.resources.opentrons.plates import *\n",
    "\n",
    "from pylabrobot.resources import set_tip_tracking, set_volume_tracking, set_cross_contamination_tracking\n",
    "set_tip_tracking(True), set_volume_tracking(True)\n",
    "\n",
    "# Optional, use when interested in protecting against accidental cross contamination\n",
    "set_cross_contamination_tracking(True)\n",
    "\n",
    "import pandas as pd\n",
    "import csv\n",
    "import os\n",
    "import opentrons\n",
    "import time"
   ]
  },
  {
   "cell_type": "code",
   "execution_count": 2,
   "metadata": {},
   "outputs": [
    {
     "name": "stdout",
     "output_type": "stream",
     "text": [
      "Setting up the liquid handler.\n",
      "Resource deck was assigned to the liquid handler.\n",
      "Resource trash_container was assigned to the liquid handler.\n",
      "Websocket server started at ws://127.0.0.1:2122\n",
      "File server started at http://127.0.0.1:1337 . Open this URL in your browser.\n"
     ]
    }
   ],
   "source": [
    "# Make sure to use the ChatterBoxBackend() and the OTDeck()\n",
    "lh = LiquidHandler(backend=LiquidHandlerChatterboxBackend(), deck=OTDeck())\n",
    "\n",
    "await lh.setup()\n",
    "\n",
    "vis = Visualizer(resource=lh)\n",
    "await vis.setup()"
   ]
  },
  {
   "cell_type": "code",
   "execution_count": 3,
   "metadata": {},
   "outputs": [],
   "source": [
    "from pylabrobot.resources import (\n",
    "    corning_96_wellplate_360ul_flat,\n",
    "    opentrons_96_tiprack_300ul,\n",
    ")"
   ]
  },
  {
   "cell_type": "code",
   "execution_count": 6,
   "metadata": {},
   "outputs": [
    {
     "ename": "ValueError",
     "evalue": "Spot 4 is already occupied",
     "output_type": "error",
     "traceback": [
      "\u001b[1;31m---------------------------------------------------------------------------\u001b[0m",
      "\u001b[1;31mValueError\u001b[0m                                Traceback (most recent call last)",
      "Cell \u001b[1;32mIn[6], line 2\u001b[0m\n\u001b[0;32m      1\u001b[0m fragments_plate_1 \u001b[38;5;241m=\u001b[39m corning_96_wellplate_360ul_flat(\u001b[38;5;124m\"\u001b[39m\u001b[38;5;124mFragments_1\u001b[39m\u001b[38;5;124m\"\u001b[39m)\n\u001b[1;32m----> 2\u001b[0m \u001b[43mlh\u001b[49m\u001b[38;5;241;43m.\u001b[39;49m\u001b[43mdeck\u001b[49m\u001b[38;5;241;43m.\u001b[39;49m\u001b[43massign_child_at_slot\u001b[49m\u001b[43m(\u001b[49m\u001b[43mfragments_plate_1\u001b[49m\u001b[43m,\u001b[49m\u001b[43m \u001b[49m\u001b[38;5;241;43m4\u001b[39;49m\u001b[43m)\u001b[49m\n\u001b[0;32m      4\u001b[0m tip_rack \u001b[38;5;241m=\u001b[39m opentrons_96_tiprack_300ul(\u001b[38;5;124m\"\u001b[39m\u001b[38;5;124mTip_Rack\u001b[39m\u001b[38;5;124m\"\u001b[39m)\n\u001b[0;32m      6\u001b[0m lh\u001b[38;5;241m.\u001b[39mdeck\u001b[38;5;241m.\u001b[39massign_child_at_slot(tip_rack, \u001b[38;5;241m1\u001b[39m)\n",
      "File \u001b[1;32mc:\\users\\stefa\\pylabrobot\\pylabrobot\\resources\\opentrons\\deck.py:93\u001b[0m, in \u001b[0;36mOTDeck.assign_child_at_slot\u001b[1;34m(self, resource, slot)\u001b[0m\n\u001b[0;32m     90\u001b[0m   \u001b[38;5;28;01mraise\u001b[39;00m \u001b[38;5;167;01mValueError\u001b[39;00m(\u001b[38;5;124m\"\u001b[39m\u001b[38;5;124mslot must be between 1 and 12\u001b[39m\u001b[38;5;124m\"\u001b[39m)\n\u001b[0;32m     92\u001b[0m \u001b[38;5;28;01mif\u001b[39;00m \u001b[38;5;28mself\u001b[39m\u001b[38;5;241m.\u001b[39mslots[slot\u001b[38;5;241m-\u001b[39m\u001b[38;5;241m1\u001b[39m] \u001b[38;5;129;01mis\u001b[39;00m \u001b[38;5;129;01mnot\u001b[39;00m \u001b[38;5;28;01mNone\u001b[39;00m:\n\u001b[1;32m---> 93\u001b[0m   \u001b[38;5;28;01mraise\u001b[39;00m \u001b[38;5;167;01mValueError\u001b[39;00m(\u001b[38;5;124mf\u001b[39m\u001b[38;5;124m\"\u001b[39m\u001b[38;5;124mSpot \u001b[39m\u001b[38;5;132;01m{\u001b[39;00mslot\u001b[38;5;132;01m}\u001b[39;00m\u001b[38;5;124m is already occupied\u001b[39m\u001b[38;5;124m\"\u001b[39m)\n\u001b[0;32m     95\u001b[0m \u001b[38;5;28mself\u001b[39m\u001b[38;5;241m.\u001b[39mslots[slot\u001b[38;5;241m-\u001b[39m\u001b[38;5;241m1\u001b[39m] \u001b[38;5;241m=\u001b[39m resource\n\u001b[0;32m     96\u001b[0m \u001b[38;5;28msuper\u001b[39m()\u001b[38;5;241m.\u001b[39massign_child_resource(resource, location\u001b[38;5;241m=\u001b[39m\u001b[38;5;28mself\u001b[39m\u001b[38;5;241m.\u001b[39mslot_locations[slot\u001b[38;5;241m-\u001b[39m\u001b[38;5;241m1\u001b[39m])\n",
      "\u001b[1;31mValueError\u001b[0m: Spot 4 is already occupied"
     ]
    }
   ],
   "source": [
    "fragments_plate_1 = corning_96_wellplate_360ul_flat(\"Fragments_1\")\n",
    "lh.deck.assign_child_at_slot(fragments_plate_1, 4)\n",
    "\n",
    "tip_rack = opentrons_96_tiprack_300ul(\"Tip_Rack\")\n",
    "\n",
    "lh.deck.assign_child_at_slot(tip_rack, 1)\n",
    "\n",
    "fragments_plate_2 = corning_96_wellplate_360ul_flat(\"Fragments_2\")\n",
    "lh.deck.assign_child_at_slot(fragments_plate_2, 5)\n",
    "\n",
    "fragments_plate_3 = corning_96_wellplate_360ul_flat(\"Fragments_3\")\n",
    "lh.deck.assign_child_at_slot(fragments_plate_3, 6)\n",
    "\n",
    "pooling_plate = corning_96_wellplate_360ul_flat(\"Pooling_plate\")\n",
    "lh.deck.assign_child_at_slot(pooling_plate, 3)"
   ]
  },
  {
   "cell_type": "code",
   "execution_count": 7,
   "metadata": {},
   "outputs": [
    {
     "name": "stdout",
     "output_type": "stream",
     "text": [
      "First 5 rows of fragments_plate_1.csv:\n",
      "  well_id fragment_id\n",
      "0      A1        X095\n",
      "1      A2        X058\n",
      "2      A3        X085\n",
      "3      A4        X050\n",
      "4      A5        X027\n",
      "\n",
      "First 5 rows of cloning.csv:\n",
      "  well_id    fragment_tuple\n",
      "0     A01  (X076,Y150,Z216)\n",
      "1     A02  (X030,Y127,Z280)\n",
      "2     A03  (X078,Y110,Z217)\n",
      "3     A04  (X020,Y138,Z231)\n",
      "4     A05  (X083,Y119,Z219)\n"
     ]
    }
   ],
   "source": [
    "\n",
    "# Read the fragment CSV file\n",
    "fragments_df = pd.read_csv(\"fragments_plate_1.csv\")\n",
    "print(\"First 5 rows of fragments_plate_1.csv:\")\n",
    "print(fragments_df.head())\n",
    "\n",
    "# Read the cloning CSV file\n",
    "cloning_df = pd.read_csv(\"cloning.csv\")\n",
    "print(\"\\nFirst 5 rows of cloning.csv:\")\n",
    "print(cloning_df.head())"
   ]
  },
  {
   "cell_type": "code",
   "execution_count": 5,
   "metadata": {},
   "outputs": [],
   "source": [
    "os.chdir(os.path.join(os.path.expanduser(\"~\"),\"PyLabRobot_Tutorials_BME590/Class Exercises/DNA_Fragments\"))\n",
    "\n",
    "def assign_fragments_from_csv(plate, csv_file):\n",
    "    with open(csv_file, 'r') as f:\n",
    "        reader = csv.DictReader(f)\n",
    "        for row in reader:\n",
    "            well_id = row['well_id']\n",
    "            fragment_id = row['fragment_id']\n",
    "            plate[well_id][0].set_liquids([(fragment_id, 100)])\n",
    "\n",
    "assign_fragments_from_csv(fragments_plate_1, \"fragments_plate_1.csv\")\n",
    "assign_fragments_from_csv(fragments_plate_2, \"fragments_plate_2.csv\")\n",
    "assign_fragments_from_csv(fragments_plate_3, \"fragments_plate_3.csv\")"
   ]
  }
 ],
 "metadata": {
  "kernelspec": {
   "display_name": "Python 3 (ipykernel)",
   "language": "python",
   "name": "python3"
  },
  "language_info": {
   "codemirror_mode": {
    "name": "ipython",
    "version": 3
   },
   "file_extension": ".py",
   "mimetype": "text/x-python",
   "name": "python",
   "nbconvert_exporter": "python",
   "pygments_lexer": "ipython3",
   "version": "3.11.0"
  }
 },
 "nbformat": 4,
 "nbformat_minor": 2
}
