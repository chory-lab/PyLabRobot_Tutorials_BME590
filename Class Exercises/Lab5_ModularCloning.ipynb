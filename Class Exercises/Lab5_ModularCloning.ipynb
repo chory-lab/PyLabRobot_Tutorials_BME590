{
 "cells": [
  {
   "cell_type": "code",
   "execution_count": 1,
   "metadata": {},
   "outputs": [],
   "source": [
    "from pylabrobot.liquid_handling import LiquidHandler\n",
    "from pylabrobot.liquid_handling import LiquidHandlerChatterboxBackend\n",
    "from pylabrobot.visualizer.visualizer import Visualizer\n",
    "from pylabrobot.resources.opentrons import OTDeck\n",
    "\n",
    "from pylabrobot.resources.opentrons.load import *\n",
    "from pylabrobot.resources.opentrons.plates import *\n",
    "\n",
    "from pylabrobot.resources import set_tip_tracking, set_volume_tracking, set_cross_contamination_tracking\n",
    "set_tip_tracking(True), set_volume_tracking(True)\n",
    "\n",
    "# Optional, use when interested in protecting against accidental cross contamination\n",
    "set_cross_contamination_tracking(True)\n",
    "\n",
    "import pandas as pd\n",
    "import csv\n",
    "import os\n",
    "import opentrons\n",
    "import time"
   ]
  },
  {
   "cell_type": "markdown",
   "metadata": {},
   "source": [
    "Golden mutagenesis is a technique that uses the modularity of golden gate cloning to generate diverse plasmid libraries. Libraries of DNA fragments can be assembled as modules to generate combinatorial diversity from a relatively small number of individual parts that can be assembled in a standardized way. \n",
    "\n",
    "This technique has been used to evolve a number of enzymes in recent years.\n",
    "\n",
    "Further reading:\n",
    "Golden Mutagenesis: An efficient multi-site-saturation mutagenesis approach by Golden Gate cloning with automated primer design\n",
    "https://www.nature.com/articles/s41598-019-47376-1\n",
    "\n",
    "\n"
   ]
  },
  {
   "cell_type": "code",
   "execution_count": 2,
   "metadata": {},
   "outputs": [
    {
     "name": "stdout",
     "output_type": "stream",
     "text": [
      "Setting up the liquid handler.\n",
      "Resource deck was assigned to the liquid handler.\n",
      "Resource trash_container was assigned to the liquid handler.\n",
      "Websocket server started at ws://127.0.0.1:2121\n",
      "File server started at http://127.0.0.1:1337 . Open this URL in your browser.\n"
     ]
    }
   ],
   "source": [
    "# Make sure to use the ChatterBoxBackend() and the OTDeck()\n",
    "lh = LiquidHandler(backend=LiquidHandlerChatterboxBackend(), deck=OTDeck())\n",
    "\n",
    "await lh.setup()\n",
    "\n",
    "vis = Visualizer(resource=lh)\n",
    "await vis.setup()"
   ]
  },
  {
   "cell_type": "code",
   "execution_count": 3,
   "metadata": {},
   "outputs": [],
   "source": [
    "from pylabrobot.resources import (\n",
    "    corning_96_wellplate_360ul_flat,\n",
    "    opentrons_96_tiprack_300ul,\n",
    ")"
   ]
  },
  {
   "cell_type": "markdown",
   "metadata": {},
   "source": [
    "Suppose you have three plates of DNA fragments corresponding to golden gate cloning modules. We are going to read in a worklist of golden gate assemblies using one fragment from each plate. Write a script that processes this worklist to pool the fragments into their respective wells.\n",
    "\n",
    "\"fragments_plate_1.csv\", etc will contain data about the fragment contents in each plate.\n",
    "\"cloning.csv\" will specify the desired result.\n",
    "\n",
    "Write a script that uses PLR's built-in state tracker to verify if your robot script worked correctly. "
   ]
  },
  {
   "cell_type": "code",
   "execution_count": 4,
   "metadata": {},
   "outputs": [
    {
     "name": "stdout",
     "output_type": "stream",
     "text": [
      "Resource Fragments_1 was assigned to the liquid handler.\n",
      "Resource Tip_Rack was assigned to the liquid handler.\n",
      "Resource Fragments_2 was assigned to the liquid handler.\n",
      "Resource Fragments_3 was assigned to the liquid handler.\n",
      "Resource Pooling_plate was assigned to the liquid handler.\n"
     ]
    }
   ],
   "source": [
    "fragments_plate_1 = corning_96_wellplate_360ul_flat(\"Fragments_1\")\n",
    "lh.deck.assign_child_at_slot(fragments_plate_1, 4)\n",
    "\n",
    "tip_rack = opentrons_96_tiprack_300ul(\"Tip_Rack\")\n",
    "\n",
    "lh.deck.assign_child_at_slot(tip_rack, 1)\n",
    "\n",
    "fragments_plate_2 = corning_96_wellplate_360ul_flat(\"Fragments_2\")\n",
    "lh.deck.assign_child_at_slot(fragments_plate_2, 5)\n",
    "\n",
    "fragments_plate_3 = corning_96_wellplate_360ul_flat(\"Fragments_3\")\n",
    "lh.deck.assign_child_at_slot(fragments_plate_3, 6)\n",
    "\n",
    "pooling_plate = corning_96_wellplate_360ul_flat(\"Pooling_plate\")\n",
    "lh.deck.assign_child_at_slot(pooling_plate, 3)"
   ]
  },
  {
   "cell_type": "code",
   "execution_count": 20,
   "metadata": {},
   "outputs": [
    {
     "name": "stdout",
     "output_type": "stream",
     "text": [
      "First 5 rows of fragments_plate_1.csv:\n",
      "  well_id fragment_id\n",
      "0      A1        X095\n",
      "1      A2        X058\n",
      "2      A3        X085\n",
      "3      A4        X050\n",
      "4      A5        X027\n",
      "\n",
      "First 5 rows of cloning.csv:\n",
      "  well_id    fragment_tuple\n",
      "0     A01  (X076,Y150,Z216)\n",
      "1     A02  (X030,Y127,Z280)\n",
      "2     A03  (X078,Y110,Z217)\n",
      "3     A04  (X020,Y138,Z231)\n",
      "4     A05  (X083,Y119,Z219)\n"
     ]
    }
   ],
   "source": [
    "\n",
    "# Read the fragment CSV file\n",
    "#os.chdir(\"PyLabRobot_Tutorials_BME590\\Class Exercises\\DNA_Fragments\")\n",
    "fragments_df = pd.read_csv(\"fragments_plate_1.csv\")\n",
    "print(\"First 5 rows of fragments_plate_1.csv:\")\n",
    "print(fragments_df.head())\n",
    "\n",
    "# Read the cloning CSV file\n",
    "cloning_df = pd.read_csv(\"cloning.csv\")\n",
    "print(\"\\nFirst 5 rows of cloning.csv:\")\n",
    "print(cloning_df.head())"
   ]
  },
  {
   "cell_type": "code",
   "execution_count": 21,
   "metadata": {},
   "outputs": [],
   "source": [
    "os.chdir(os.path.join(os.path.expanduser(\"~\"),\"PyLabRobot_Tutorials_BME590/Class Exercises/DNA_Fragments\"))\n",
    "\n",
    "def assign_fragments_from_csv(plate, csv_file):\n",
    "    with open(csv_file, 'r') as f:\n",
    "        reader = csv.DictReader(f)\n",
    "        for row in reader:\n",
    "            well_id = row['well_id']\n",
    "            fragment_id = row['fragment_id']\n",
    "            plate[well_id][0].set_liquids([(fragment_id, 100)])\n",
    "\n",
    "assign_fragments_from_csv(fragments_plate_1, \"fragments_plate_1.csv\")\n",
    "assign_fragments_from_csv(fragments_plate_2, \"fragments_plate_2.csv\")\n",
    "assign_fragments_from_csv(fragments_plate_3, \"fragments_plate_3.csv\")"
   ]
  },
  {
   "cell_type": "markdown",
   "metadata": {},
   "source": [
    "## Exercises\n",
    "1. Write a script that pools the desired fragments in the pooling plate according to the worklist\n",
    "2. Write a script that uses the state tracker to verify the contents of the pooling plate\n",
    "\n",
    "Extra credit:\n",
    "3. Find a way to recover from an error mid-way through your script without starting from the beginning. "
   ]
  }
 ],
 "metadata": {
  "kernelspec": {
   "display_name": "Python 3 (ipykernel)",
   "language": "python",
   "name": "python3"
  },
  "language_info": {
   "codemirror_mode": {
    "name": "ipython",
    "version": 3
   },
   "file_extension": ".py",
   "mimetype": "text/x-python",
   "name": "python",
   "nbconvert_exporter": "python",
   "pygments_lexer": "ipython3",
   "version": "3.11.0"
  }
 },
 "nbformat": 4,
 "nbformat_minor": 2
}
