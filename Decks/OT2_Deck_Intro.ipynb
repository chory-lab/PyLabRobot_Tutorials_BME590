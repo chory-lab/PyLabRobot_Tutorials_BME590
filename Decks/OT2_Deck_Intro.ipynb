{
 "cells": [
  {
   "cell_type": "markdown",
   "id": "8dbbadf0-ac05-44a6-a303-e7e71691ed9a",
   "metadata": {},
   "source": [
    "# Intro to Decks: OT2\n",
    "### In this tutorial, you will see how to instantiate an OT2 Deck, how to add labware, and how to move liquids around.\n",
    "\n",
    "First we will import `LiquidHandler`, a backend called `ChatterBoxBackend` that prints the text\n",
    "output of our commands, a class `Visualizer` that provides a visualization of the robot deck as we\n",
    "run commands, and a class `OTDeck` that will represent the deck of an OpenTrons OT2, one of\n",
    "the most widely used liquid handling robots. \n",
    "\n",
    "Make sure to also `import opentrons` !"
   ]
  },
  {
   "cell_type": "markdown",
   "id": "0b6ee87a-a089-4a5b-9b60-852d1e1f8874",
   "metadata": {},
   "source": [
    "### Imports"
   ]
  },
  {
   "cell_type": "code",
   "execution_count": 1,
   "id": "9faf434a-2fc5-44cf-8dc9-7a68475d47bf",
   "metadata": {},
   "outputs": [],
   "source": [
    "import pylabrobot"
   ]
  },
  {
   "cell_type": "code",
   "execution_count": 2,
   "id": "069fb033-3ea2-4772-b55b-c800ed17dab5",
   "metadata": {},
   "outputs": [
    {
     "data": {
      "text/plain": [
       "'/mnt/d/Chory Lab/PyLabRobot/pylabrobot/__init__.py'"
      ]
     },
     "execution_count": 2,
     "metadata": {},
     "output_type": "execute_result"
    }
   ],
   "source": [
    "pylabrobot.__file__"
   ]
  },
  {
   "cell_type": "code",
   "execution_count": 4,
   "id": "63636707-3e3c-4aba-b8eb-1e702875d391",
   "metadata": {},
   "outputs": [],
   "source": [
    "from pylabrobot.liquid_handling import LiquidHandler\n",
    "from pylabrobot.liquid_handling.backends import ChatterBoxBackend\n",
    "from pylabrobot.visualizer.visualizer import Visualizer\n",
    "from pylabrobot.resources.opentrons import OTDeck\n",
    "\n",
    "from pylabrobot.resources.opentrons.load import *\n",
    "from pylabrobot.resources.opentrons.plates import *\n",
    "\n",
    "from pylabrobot.resources import set_tip_tracking, set_volume_tracking\n",
    "set_tip_tracking(True), set_volume_tracking(True)\n",
    "\n",
    "import opentrons\n",
    "import time"
   ]
  },
  {
   "cell_type": "markdown",
   "id": "10bcab3e-f908-479a-8e63-1fecfbe9ecf7",
   "metadata": {},
   "source": [
    "### Setting up the Deck and Visualizer"
   ]
  },
  {
   "cell_type": "markdown",
   "id": "7a612e7b-d246-4c75-874c-1b053ab2aeda",
   "metadata": {},
   "source": [
    "First, we will create an instance of the `LiquidHandler` class. This may take some time to set up, so we run the `setup()` function with the `await` keyword."
   ]
  },
  {
   "cell_type": "code",
   "execution_count": 5,
   "id": "cb5eb1ee-a1ae-4fd3-afff-78967d6e9f95",
   "metadata": {},
   "outputs": [
    {
     "name": "stdout",
     "output_type": "stream",
     "text": [
      "Setting up the robot.\n",
      "Resource deck was assigned to the robot.\n",
      "Resource trash_container was assigned to the robot.\n"
     ]
    }
   ],
   "source": [
    "lh = LiquidHandler(backend=ChatterBoxBackend(), deck=OTDeck())\n",
    "\n",
    "await lh.setup()"
   ]
  },
  {
   "cell_type": "markdown",
   "id": "c044f917-ae75-4e17-80e1-7ad0f13b64cc",
   "metadata": {},
   "source": [
    "After initializing our `LiquidHandler`, we want to create an instance of a `Visualizer`. This will allow you to see the Deck and follow your protocol in real time. You can see how tips and liquids move as you run commands. Make sure to open the `Visualizer` in another window."
   ]
  },
  {
   "cell_type": "code",
   "execution_count": 6,
   "id": "9ce8270d-91ed-4836-a742-ab5375c4fdaa",
   "metadata": {},
   "outputs": [
    {
     "name": "stdout",
     "output_type": "stream",
     "text": [
      "Websocket server started at http://127.0.0.1:2121\n",
      "File server started at http://127.0.0.1:1337 . Open this URL in your browser.\n"
     ]
    }
   ],
   "source": [
    "vis = Visualizer(resource=lh)\n",
    "await vis.setup()"
   ]
  },
  {
   "cell_type": "markdown",
   "id": "70c070bd-f7fd-47c4-9c98-65674fa776fc",
   "metadata": {},
   "source": [
    "### Adding Labware to the Deck"
   ]
  },
  {
   "cell_type": "markdown",
   "id": "4d0024ee-4722-4b99-afad-3bba67388855",
   "metadata": {},
   "source": [
    "Now, we are ready to add some labware to the deck. **PyLabRobot** has many different labware items already defined. Only import the ones that you need for your protocol. A full list of labware can be found in `PyLabRobot\\Resources\\opentrons`. You can also create custom labware, but that is out of scope for this tutorial.\n",
    "\n",
    "Let's begin by importing a `TubeRack`, a `TipRack`, and a `Plate`.\n",
    "<details>\n",
    "    <summary>Definitions of Labware:</summary>\n",
    "    \n",
    "* **TubeRack** = Used to hold various tubes, commonly the 2mL Eppendorfs.\n",
    "\n",
    "* **TipRack** = Labware that holds pipette tips.\n",
    "\n",
    "* **Plate** = Well-Plate that one can add liquids to.\n",
    "</details>"
   ]
  },
  {
   "cell_type": "code",
   "execution_count": 7,
   "id": "71889711-e068-4e7e-b158-128a9491a1a0",
   "metadata": {},
   "outputs": [],
   "source": [
    "from pylabrobot.resources import (\n",
    "    opentrons_24_tuberack_eppendorf_2ml_safelock_snapcap,\n",
    "    opentrons_96_tiprack_300ul,\n",
    "    corning_96_wellplate_360ul_flat\n",
    ")"
   ]
  },
  {
   "cell_type": "markdown",
   "id": "fae79fcb-7dbb-4145-a03a-eef0da7d6e38",
   "metadata": {},
   "source": [
    "**Note:** The OT2 has **11 spots** for labware. It also has a built in trash can for discarding tips.\n",
    "\n",
    "One thing to keep in mind when designing a protocol is `layout efficiency`. The more separated labware is on the deck, the longer your protocol will be because the pipette has to travel farther.\n",
    "\n",
    "In general, you want to keep your tip racks in the back, your stocks in the middle, and then finally your plates in the front. This allows for `linear movement`.\n",
    "\n",
    "For example, the arm grabs a **tip from slot 7**, aspirates **stock from slot 4**, and then finally **dispenses in slot 1**. Reducing the travel time of the pipette will decrease the runtime of your protocol.\n",
    "\n",
    "To place labware on the Deck, call `assign_child_at_slot()`. Pass in the labware you want to place along with the slot you want to place it in."
   ]
  },
  {
   "cell_type": "code",
   "execution_count": 8,
   "id": "c4c43470-21ff-4b3f-9a36-cdc3c0d97403",
   "metadata": {},
   "outputs": [
    {
     "name": "stdout",
     "output_type": "stream",
     "text": [
      "Resource tip_rack was assigned to the robot.\n"
     ]
    }
   ],
   "source": [
    "# When you instantiate a labware, give it a name that will show when you\n",
    "# mouse over it in the visualizer.\n",
    "tip_rack = opentrons_96_tiprack_300ul(\"tip_rack\")\n",
    "\n",
    "lh.deck.assign_child_at_slot(tip_rack, 7)"
   ]
  },
  {
   "cell_type": "code",
   "execution_count": 9,
   "id": "3740eb57-80bd-498b-95d5-725b9487c196",
   "metadata": {},
   "outputs": [
    {
     "name": "stdout",
     "output_type": "stream",
     "text": [
      "Resource tube_rack was assigned to the robot.\n"
     ]
    }
   ],
   "source": [
    "# Stock Solution Tube Rack\n",
    "tube_rack = opentrons_24_tuberack_eppendorf_2ml_safelock_snapcap(\"tube_rack\")\n",
    "\n",
    "lh.deck.assign_child_at_slot(tube_rack, 4)"
   ]
  },
  {
   "cell_type": "code",
   "execution_count": 10,
   "id": "fd6a17ea-b41e-4033-a914-81b2d87635b9",
   "metadata": {},
   "outputs": [
    {
     "name": "stdout",
     "output_type": "stream",
     "text": [
      "Resource prep_plate was assigned to the robot.\n"
     ]
    }
   ],
   "source": [
    "# Plate for Sample Preparation\n",
    "plate = corning_96_wellplate_360ul_flat(\"prep_plate\")\n",
    "\n",
    "lh.deck.assign_child_at_slot(plate, 1)"
   ]
  },
  {
   "cell_type": "code",
   "execution_count": 11,
   "id": "8f58b38f-d40b-4a07-8162-b31d87fdcb12",
   "metadata": {},
   "outputs": [
    {
     "name": "stdout",
     "output_type": "stream",
     "text": [
      "\n",
      "Deck: 624.3mm x 565.2mm\n",
      "\n",
      "+-----------------+-----------------+-----------------+\n",
      "|                 |                 |                 |\n",
      "| 10: Empty       | 11: Empty       | 12: trash_co... |\n",
      "|                 |                 |                 |\n",
      "+-----------------+-----------------+-----------------+\n",
      "|                 |                 |                 |\n",
      "|  7: tip_rack    |  8: Empty       |  9: Empty       |\n",
      "|                 |                 |                 |\n",
      "+-----------------+-----------------+-----------------+\n",
      "|                 |                 |                 |\n",
      "|  4: tube_rack   |  5: Empty       |  6: Empty       |\n",
      "|                 |                 |                 |\n",
      "+-----------------+-----------------+-----------------+\n",
      "|                 |                 |                 |\n",
      "|  1: prep_plate  |  2: Empty       |  3: Empty       |\n",
      "|                 |                 |                 |\n",
      "+-----------------+-----------------+-----------------+\n",
      "\n"
     ]
    }
   ],
   "source": [
    "print(lh.deck.summary())"
   ]
  },
  {
   "cell_type": "markdown",
   "id": "b7c49e37-543c-49b5-86f0-5c9df9bdd5a1",
   "metadata": {},
   "source": [
    "### Adding Liquids to the Deck"
   ]
  },
  {
   "cell_type": "markdown",
   "id": "b757ebe8-be14-48af-bda6-f377a8769d0b",
   "metadata": {},
   "source": [
    "Let's add some liquids to our `tube_rack`. We can add up to the `max_volume` of the tube. If you go over this number, **PyLabRobot** will throw an error. We shall add 1000µL of 4 different dyes to the first column of our `tube_rack`. This corresponds to wells *A1, B1, C1, and D1*.\n",
    "\n",
    "To iterate over locations on labware, we use the `traverse()` function. This produces a generator object that we use the `next` keyword on to yield our desired wells.\n",
    "\n",
    "`traverse()` takes in two arguments: **batch_size** is the amount of wells to return, and **direction** is how to iterate over the wells. In our case, we use `\"down\"` to return the wells column wise.\n",
    "\n",
    "<details>\n",
    "    <summary>More info on <b>direction:</summary>\n",
    "\n",
    "* `\"down\"`, `\"snake_down\"`, `\"right\"`, and `\"snake_right\"` start at the top left item **(A1)**.\n",
    "        \n",
    "* `\"up\"` and `\"snake_up\"` start at the bottom left **(H1)**.\n",
    "    \n",
    "* `\"left\"` and `\"snake_left\"` start at the top right **(A12)**.\n",
    "\n",
    "* The `snake` directions alternate between going in the given direction and going in the opposite direction. For example, `\"snake_down\"` will go from A1 to H1, then H2 to A2, then A3 to H3, etc.\n",
    "</details>"
   ]
  },
  {
   "cell_type": "code",
   "execution_count": 12,
   "id": "aca186f8-922b-4226-89ef-e6cfe886b512",
   "metadata": {},
   "outputs": [
    {
     "data": {
      "text/plain": [
       "[Tube(name=tube_rack_A1, location=(018.210, 075.430, 041.270), size_x=6.223, size_y=6.223, size_z=39.1, category=tube),\n",
       " Tube(name=tube_rack_B1, location=(018.210, 056.150, 041.270), size_x=6.223, size_y=6.223, size_z=39.1, category=tube),\n",
       " Tube(name=tube_rack_C1, location=(018.210, 036.870, 041.270), size_x=6.223, size_y=6.223, size_z=39.1, category=tube),\n",
       " Tube(name=tube_rack_D1, location=(018.210, 017.590, 041.270), size_x=6.223, size_y=6.223, size_z=39.1, category=tube)]"
      ]
     },
     "execution_count": 12,
     "metadata": {},
     "output_type": "execute_result"
    }
   ],
   "source": [
    "first_col_tubes = next(tube_rack.traverse(batch_size=4, direction='down'))\n",
    "first_col_tubes"
   ]
  },
  {
   "cell_type": "markdown",
   "id": "88f4e079-81e1-441c-923c-63e2a8b1cfb7",
   "metadata": {},
   "source": [
    "Use the `tracker.set_liquids()` function to put liquid in a `tube`. The `tracker` class contains all of the methods associated with keeping record of how much/what kind of liquid is in a given container.\n",
    "\n",
    "Pass in a string for **\"Liquid_Type\"** and a number for **Volume** to this function.\n",
    "\n",
    "Let's add our dyes to the tubes in `first_col_tubes`."
   ]
  },
  {
   "cell_type": "code",
   "execution_count": 13,
   "id": "876af18c-fdde-4a78-8261-b9a61c580988",
   "metadata": {},
   "outputs": [],
   "source": [
    "for i in range(len(first_col_tubes)):\n",
    "    # [(liquid, volume)]\n",
    "    first_col_tubes[i].tracker.set_liquids([(f\"Dye_{i}\", 2000)])"
   ]
  },
  {
   "cell_type": "markdown",
   "id": "1e0137ea-bd0f-4a8f-9785-3b7aafe5c7dd",
   "metadata": {},
   "source": [
    "Here's a Utility function for printing all of the filled spots of a `TubeRack`."
   ]
  },
  {
   "cell_type": "code",
   "execution_count": 14,
   "id": "ee999023-9b95-41b0-90c4-4e05bc65d629",
   "metadata": {},
   "outputs": [],
   "source": [
    "def print_filled_spots_of_tubeRack(tube_rack):\n",
    "\n",
    "    all_tubes = tube_rack.get_all_children()\n",
    "\n",
    "    all_empty = True\n",
    "    \n",
    "    for tube in all_tubes:\n",
    "    \n",
    "        liquid = tube.tracker.liquids\n",
    "\n",
    "        if liquid != []:\n",
    "            print(f\"Spot {tube.name.split('_')[-1]} contains:\")\n",
    "\n",
    "            name = liquid[0][0]\n",
    "            vol = liquid[0][1]\n",
    "        \n",
    "            print(f\"{vol}uL of {name}\")\n",
    "\n",
    "            all_empty = False\n",
    "\n",
    "    if all_empty:\n",
    "        print(\"Entire rack is empty!\")"
   ]
  },
  {
   "cell_type": "code",
   "execution_count": 15,
   "id": "1832d167-395f-44fe-911b-1584b9a71281",
   "metadata": {
    "scrolled": true
   },
   "outputs": [
    {
     "name": "stdout",
     "output_type": "stream",
     "text": [
      "Spot A1 contains:\n",
      "2000uL of Dye_0\n",
      "Spot B1 contains:\n",
      "2000uL of Dye_1\n",
      "Spot C1 contains:\n",
      "2000uL of Dye_2\n",
      "Spot D1 contains:\n",
      "2000uL of Dye_3\n"
     ]
    }
   ],
   "source": [
    "print_filled_spots_of_tubeRack(tube_rack)"
   ]
  },
  {
   "cell_type": "code",
   "execution_count": 16,
   "id": "c1e08eec-4b28-498b-8374-09a62b4cefa0",
   "metadata": {},
   "outputs": [
    {
     "name": "stdout",
     "output_type": "stream",
     "text": [
      "Entire rack is empty!\n"
     ]
    }
   ],
   "source": [
    "print_filled_spots_of_tubeRack(plate)"
   ]
  },
  {
   "cell_type": "markdown",
   "id": "ffceed8a-b9c4-4824-85e4-2676957811f6",
   "metadata": {},
   "source": [
    "### Moving Liquids from Point A to Point B"
   ]
  },
  {
   "cell_type": "markdown",
   "id": "4d7e2781-aee6-45a3-82a0-09a56e8452aa",
   "metadata": {},
   "source": [
    "Now that we've added some dyes to our tube rack, let's use the robot to move some liquid to our `prep_plate`. The first step of a liquid transfer is acquiring a tip.\n",
    "\n",
    "You can acquire a tip by calling `lh.pick_up_tips()`, and passing in the `TipSpots` of the tips you want to retrieve. `TipSpots` are indexed the same way that wells are.\n",
    "\n",
    "When a tip is picked up from a `TipRack`, it's location will turn white on the visualizer. To see what tips are currently on the robot, call `lh.head`. This returns a dictionary where the keys are the indices of the different channels of the main pipettor, and where the values are instances of the `TipTracker` class, allowing you to get information about how tips move on and off of a given channel.\n",
    "\n",
    "If you want to reset the state of tips on a robot, call `lh.return_tips()`. This function will automatically return the tips to their original locations."
   ]
  },
  {
   "cell_type": "code",
   "execution_count": 76,
   "id": "be4dfa3a-4654-4b1e-917b-91fd163b0a04",
   "metadata": {},
   "outputs": [
    {
     "name": "stdout",
     "output_type": "stream",
     "text": [
      "Dropping tips [Drop(resource=TipSpot(name=tip_rack_C3, location=(032.380, 056.240, 005.390), size_x=3.698, size_y=3.698, size_z=0, category=tip_spot), offset=None, tip=Tip(has_filter=False, total_tip_length=59.3, maximal_volume=300.0, fitting_depth=7.47)), Drop(resource=TipSpot(name=tip_rack_E7, location=(068.380, 038.240, 005.390), size_x=3.698, size_y=3.698, size_z=0, category=tip_spot), offset=None, tip=Tip(has_filter=False, total_tip_length=59.3, maximal_volume=300.0, fitting_depth=7.47)), Drop(resource=TipSpot(name=tip_rack_A1, location=(014.380, 074.240, 005.390), size_x=3.698, size_y=3.698, size_z=0, category=tip_spot), offset=None, tip=Tip(has_filter=False, total_tip_length=59.3, maximal_volume=300.0, fitting_depth=7.47)), Drop(resource=TipSpot(name=tip_rack_D3, location=(032.380, 047.240, 005.390), size_x=3.698, size_y=3.698, size_z=0, category=tip_spot), offset=None, tip=Tip(has_filter=False, total_tip_length=59.3, maximal_volume=300.0, fitting_depth=7.47))].\n"
     ]
    }
   ],
   "source": [
    "await lh.return_tips()"
   ]
  },
  {
   "cell_type": "markdown",
   "id": "3ad6d617-4927-4898-b3b0-5c6c896367c7",
   "metadata": {},
   "source": [
    "Let's try picking up 8 tips along the diagonal."
   ]
  },
  {
   "cell_type": "code",
   "execution_count": 17,
   "id": "f1d968f1-1889-474e-8106-a55369d6e412",
   "metadata": {},
   "outputs": [
    {
     "name": "stdout",
     "output_type": "stream",
     "text": [
      "Picking up tips [Pickup(resource=TipSpot(name=tip_rack_A1, location=(014.380, 074.240, 005.390), size_x=3.698, size_y=3.698, size_z=0, category=tip_spot), offset=None, tip=Tip(has_filter=False, total_tip_length=59.3, maximal_volume=300.0, fitting_depth=7.47)), Pickup(resource=TipSpot(name=tip_rack_B2, location=(023.380, 065.240, 005.390), size_x=3.698, size_y=3.698, size_z=0, category=tip_spot), offset=None, tip=Tip(has_filter=False, total_tip_length=59.3, maximal_volume=300.0, fitting_depth=7.47)), Pickup(resource=TipSpot(name=tip_rack_C3, location=(032.380, 056.240, 005.390), size_x=3.698, size_y=3.698, size_z=0, category=tip_spot), offset=None, tip=Tip(has_filter=False, total_tip_length=59.3, maximal_volume=300.0, fitting_depth=7.47)), Pickup(resource=TipSpot(name=tip_rack_D4, location=(041.380, 047.240, 005.390), size_x=3.698, size_y=3.698, size_z=0, category=tip_spot), offset=None, tip=Tip(has_filter=False, total_tip_length=59.3, maximal_volume=300.0, fitting_depth=7.47)), Pickup(resource=TipSpot(name=tip_rack_E5, location=(050.380, 038.240, 005.390), size_x=3.698, size_y=3.698, size_z=0, category=tip_spot), offset=None, tip=Tip(has_filter=False, total_tip_length=59.3, maximal_volume=300.0, fitting_depth=7.47)), Pickup(resource=TipSpot(name=tip_rack_F6, location=(059.380, 029.240, 005.390), size_x=3.698, size_y=3.698, size_z=0, category=tip_spot), offset=None, tip=Tip(has_filter=False, total_tip_length=59.3, maximal_volume=300.0, fitting_depth=7.47)), Pickup(resource=TipSpot(name=tip_rack_G7, location=(068.380, 020.240, 005.390), size_x=3.698, size_y=3.698, size_z=0, category=tip_spot), offset=None, tip=Tip(has_filter=False, total_tip_length=59.3, maximal_volume=300.0, fitting_depth=7.47)), Pickup(resource=TipSpot(name=tip_rack_H8, location=(077.380, 011.240, 005.390), size_x=3.698, size_y=3.698, size_z=0, category=tip_spot), offset=None, tip=Tip(has_filter=False, total_tip_length=59.3, maximal_volume=300.0, fitting_depth=7.47))].\n"
     ]
    }
   ],
   "source": [
    "await lh.pick_up_tips(tip_rack[\"A1\", \"B2\", \"C3\", \"D4\", \"E5\", \"F6\", \"G7\", \"H8\"])"
   ]
  },
  {
   "cell_type": "markdown",
   "id": "7e370bb6-b432-46dc-88ce-851bde0b7d84",
   "metadata": {},
   "source": [
    "Rather than use `lh.return_tips()` all of the time, you can also call `lh.drop_tips()` and pass in specifically where to place the tip, and what channel's tip to drop."
   ]
  },
  {
   "cell_type": "code",
   "execution_count": 18,
   "id": "7abad4b7-d3e2-4d45-a33c-651f41b9a590",
   "metadata": {},
   "outputs": [
    {
     "name": "stdout",
     "output_type": "stream",
     "text": [
      "Dropping tips [Drop(resource=TipSpot(name=tip_rack_A1, location=(014.380, 074.240, 005.390), size_x=3.698, size_y=3.698, size_z=0, category=tip_spot), offset=None, tip=Tip(has_filter=False, total_tip_length=59.3, maximal_volume=300.0, fitting_depth=7.47)), Drop(resource=TipSpot(name=tip_rack_B2, location=(023.380, 065.240, 005.390), size_x=3.698, size_y=3.698, size_z=0, category=tip_spot), offset=None, tip=Tip(has_filter=False, total_tip_length=59.3, maximal_volume=300.0, fitting_depth=7.47)), Drop(resource=TipSpot(name=tip_rack_C3, location=(032.380, 056.240, 005.390), size_x=3.698, size_y=3.698, size_z=0, category=tip_spot), offset=None, tip=Tip(has_filter=False, total_tip_length=59.3, maximal_volume=300.0, fitting_depth=7.47)), Drop(resource=TipSpot(name=tip_rack_D4, location=(041.380, 047.240, 005.390), size_x=3.698, size_y=3.698, size_z=0, category=tip_spot), offset=None, tip=Tip(has_filter=False, total_tip_length=59.3, maximal_volume=300.0, fitting_depth=7.47)), Drop(resource=TipSpot(name=tip_rack_E5, location=(050.380, 038.240, 005.390), size_x=3.698, size_y=3.698, size_z=0, category=tip_spot), offset=None, tip=Tip(has_filter=False, total_tip_length=59.3, maximal_volume=300.0, fitting_depth=7.47)), Drop(resource=TipSpot(name=tip_rack_F6, location=(059.380, 029.240, 005.390), size_x=3.698, size_y=3.698, size_z=0, category=tip_spot), offset=None, tip=Tip(has_filter=False, total_tip_length=59.3, maximal_volume=300.0, fitting_depth=7.47)), Drop(resource=TipSpot(name=tip_rack_G7, location=(068.380, 020.240, 005.390), size_x=3.698, size_y=3.698, size_z=0, category=tip_spot), offset=None, tip=Tip(has_filter=False, total_tip_length=59.3, maximal_volume=300.0, fitting_depth=7.47)), Drop(resource=TipSpot(name=tip_rack_H8, location=(077.380, 011.240, 005.390), size_x=3.698, size_y=3.698, size_z=0, category=tip_spot), offset=None, tip=Tip(has_filter=False, total_tip_length=59.3, maximal_volume=300.0, fitting_depth=7.47))].\n"
     ]
    }
   ],
   "source": [
    "await lh.drop_tips(tip_spots = tip_rack[\"A1\", \"B2\", \"C3\", \"D4\", \"E5\", \"F6\", \"G7\", \"H8\"],\n",
    "                   use_channels = [0,1,2,3,4,5,6,7])"
   ]
  },
  {
   "cell_type": "markdown",
   "id": "31159c96-4f4a-4abf-9a83-f93bef0da703",
   "metadata": {},
   "source": [
    "The order in which you pass in the `tip_spots` and the `use_channels` lists will determine which channel gets which tip. Take a look!"
   ]
  },
  {
   "cell_type": "code",
   "execution_count": 19,
   "id": "52ae208a-cff3-419d-91e4-0293b437871b",
   "metadata": {},
   "outputs": [
    {
     "name": "stdout",
     "output_type": "stream",
     "text": [
      "Picking up tips [Pickup(resource=TipSpot(name=tip_rack_A1, location=(014.380, 074.240, 005.390), size_x=3.698, size_y=3.698, size_z=0, category=tip_spot), offset=None, tip=Tip(has_filter=False, total_tip_length=59.3, maximal_volume=300.0, fitting_depth=7.47)), Pickup(resource=TipSpot(name=tip_rack_C3, location=(032.380, 056.240, 005.390), size_x=3.698, size_y=3.698, size_z=0, category=tip_spot), offset=None, tip=Tip(has_filter=False, total_tip_length=59.3, maximal_volume=300.0, fitting_depth=7.47)), Pickup(resource=TipSpot(name=tip_rack_E7, location=(068.380, 038.240, 005.390), size_x=3.698, size_y=3.698, size_z=0, category=tip_spot), offset=None, tip=Tip(has_filter=False, total_tip_length=59.3, maximal_volume=300.0, fitting_depth=7.47))].\n"
     ]
    }
   ],
   "source": [
    "await lh.pick_up_tips(tip_spots = tip_rack[\"A1\", 'C3', \"E7\"], use_channels = [2,0,1])"
   ]
  },
  {
   "cell_type": "code",
   "execution_count": 32,
   "id": "807b3ba9-57db-483e-aca2-419f439e8520",
   "metadata": {},
   "outputs": [
    {
     "data": {
      "text/plain": [
       "{0: TipTracker(Channel 0, is_disabled=False, has_tip=False tip=Tip(has_filter=False, total_tip_length=59.3, maximal_volume=300.0, fitting_depth=7.47), pending_tip=None),\n",
       " 1: TipTracker(Channel 1, is_disabled=False, has_tip=True tip=Tip(has_filter=False, total_tip_length=59.3, maximal_volume=300.0, fitting_depth=7.47), pending_tip=Tip(has_filter=False, total_tip_length=59.3, maximal_volume=300.0, fitting_depth=7.47)),\n",
       " 2: TipTracker(Channel 2, is_disabled=False, has_tip=False tip=None, pending_tip=None),\n",
       " 3: TipTracker(Channel 3, is_disabled=False, has_tip=False tip=None, pending_tip=None),\n",
       " 4: TipTracker(Channel 4, is_disabled=False, has_tip=True tip=Tip(has_filter=False, total_tip_length=59.3, maximal_volume=300.0, fitting_depth=7.47), pending_tip=Tip(has_filter=False, total_tip_length=59.3, maximal_volume=300.0, fitting_depth=7.47)),\n",
       " 5: TipTracker(Channel 5, is_disabled=False, has_tip=False tip=None, pending_tip=None),\n",
       " 6: TipTracker(Channel 6, is_disabled=False, has_tip=False tip=None, pending_tip=None),\n",
       " 7: TipTracker(Channel 7, is_disabled=False, has_tip=False tip=None, pending_tip=None)}"
      ]
     },
     "execution_count": 32,
     "metadata": {},
     "output_type": "execute_result"
    }
   ],
   "source": [
    "lh.head"
   ]
  },
  {
   "cell_type": "markdown",
   "id": "e2931c39-74db-4426-9be9-0a702c677489",
   "metadata": {},
   "source": [
    "Here's another utility function that will print the status of tips on the pipetter. If there is a tip on a channel, this function will output its origin."
   ]
  },
  {
   "cell_type": "code",
   "execution_count": 21,
   "id": "d579d650-e172-4c58-b9e9-a96262609f60",
   "metadata": {},
   "outputs": [],
   "source": [
    "def print_channels_tip_origin(lh):\n",
    "    # Prints the origin location of all tips currently on the robot\n",
    "    cur_pipetter = lh.head\n",
    "\n",
    "    for channel in cur_pipetter:\n",
    "        print(f\"Channel {channel}:\")\n",
    "\n",
    "        tip_tracker = lh.head[channel]\n",
    "        \n",
    "        if tip_tracker.has_tip == True:\n",
    "            print(tip_tracker.get_tip_origin())\n",
    "        else:\n",
    "            print(\"No tip present.\")\n",
    "        print()"
   ]
  },
  {
   "cell_type": "code",
   "execution_count": 41,
   "id": "35530ae2-b0ff-4554-9da3-1b714357b9d7",
   "metadata": {},
   "outputs": [],
   "source": [
    "def print_channel_status(lh):\n",
    "    # Prints the status of liquids, if present, in each channel\n",
    "    cur_pipetter = lh.head\n",
    "\n",
    "    for channel in cur_pipetter:\n",
    "        print(f\"Channel {channel}:\")\n",
    "\n",
    "        tip_tracker = lh.head[channel]\n",
    "        \n",
    "        if tip_tracker.has_tip == True:\n",
    "            tip = tip_tracker.get_tip()\n",
    "            print(tip.tracker.liquids)\n",
    "        else:\n",
    "            print(\"No tip present.\")\n",
    "        print()"
   ]
  },
  {
   "cell_type": "code",
   "execution_count": 33,
   "id": "f4019779-4c85-4d46-8c35-960d26b58618",
   "metadata": {},
   "outputs": [
    {
     "name": "stdout",
     "output_type": "stream",
     "text": [
      "Channel 0:\n",
      "No tip present.\n",
      "\n",
      "Channel 1:\n",
      "TipSpot(name=tip_rack_E7, location=(068.380, 038.240, 005.390), size_x=3.698, size_y=3.698, size_z=0, category=tip_spot)\n",
      "\n",
      "Channel 2:\n",
      "No tip present.\n",
      "\n",
      "Channel 3:\n",
      "No tip present.\n",
      "\n",
      "Channel 4:\n",
      "TipSpot(name=tip_rack_D3, location=(032.380, 047.240, 005.390), size_x=3.698, size_y=3.698, size_z=0, category=tip_spot)\n",
      "\n",
      "Channel 5:\n",
      "No tip present.\n",
      "\n",
      "Channel 6:\n",
      "No tip present.\n",
      "\n",
      "Channel 7:\n",
      "No tip present.\n",
      "\n"
     ]
    }
   ],
   "source": [
    "print_channels_tip_origin(lh)"
   ]
  },
  {
   "cell_type": "code",
   "execution_count": 45,
   "id": "8f041cd7-6e04-4156-b253-dc840beac2f0",
   "metadata": {},
   "outputs": [
    {
     "name": "stdout",
     "output_type": "stream",
     "text": [
      "Channel 0:\n",
      "No tip present.\n",
      "\n",
      "Channel 1:\n",
      "[]\n",
      "\n",
      "Channel 2:\n",
      "No tip present.\n",
      "\n",
      "Channel 3:\n",
      "No tip present.\n",
      "\n",
      "Channel 4:\n",
      "[]\n",
      "\n",
      "Channel 5:\n",
      "No tip present.\n",
      "\n",
      "Channel 6:\n",
      "No tip present.\n",
      "\n",
      "Channel 7:\n",
      "No tip present.\n",
      "\n"
     ]
    }
   ],
   "source": [
    "print_channel_status(lh)"
   ]
  },
  {
   "cell_type": "code",
   "execution_count": 54,
   "id": "9c35e2c8-f75a-47ab-a57a-b2f3a26bfa77",
   "metadata": {},
   "outputs": [
    {
     "data": {
      "text/plain": [
       "[]"
      ]
     },
     "execution_count": 54,
     "metadata": {},
     "output_type": "execute_result"
    }
   ],
   "source": [
    "lh.head[1].get_tip().tracker.pending_liquids"
   ]
  },
  {
   "cell_type": "markdown",
   "id": "60eecc01-1226-4b5e-8a19-f4f55cbfb15c",
   "metadata": {
    "jp-MarkdownHeadingCollapsed": true
   },
   "source": [
    "You also don't need to specify channels in order. If you wanted to skip channel 3, we can do so by just passing in the next channel index and skipping 3."
   ]
  },
  {
   "cell_type": "code",
   "execution_count": 23,
   "id": "62947627-8930-4bc5-ad97-081f5e157ad7",
   "metadata": {},
   "outputs": [
    {
     "name": "stdout",
     "output_type": "stream",
     "text": [
      "Picking up tips [Pickup(resource=TipSpot(name=tip_rack_D3, location=(032.380, 047.240, 005.390), size_x=3.698, size_y=3.698, size_z=0, category=tip_spot), offset=None, tip=Tip(has_filter=False, total_tip_length=59.3, maximal_volume=300.0, fitting_depth=7.47))].\n"
     ]
    }
   ],
   "source": [
    "await lh.pick_up_tips(tip_rack[\"D3\"], use_channels = [4])"
   ]
  },
  {
   "cell_type": "code",
   "execution_count": 24,
   "id": "a7b792f0-a30f-43dd-9c39-b230b4f3dd52",
   "metadata": {},
   "outputs": [
    {
     "name": "stdout",
     "output_type": "stream",
     "text": [
      "Dropping tips [Drop(resource=TipSpot(name=tip_rack_E7, location=(068.380, 038.240, 005.390), size_x=3.698, size_y=3.698, size_z=0, category=tip_spot), offset=None, tip=Tip(has_filter=False, total_tip_length=59.3, maximal_volume=300.0, fitting_depth=7.47))].\n"
     ]
    }
   ],
   "source": [
    "await lh.drop_tips(tip_spots = tip_rack[\"E7\"], use_channels = [2])"
   ]
  },
  {
   "cell_type": "markdown",
   "id": "110cbad9-a473-4911-ace3-cdcae2bbbba3",
   "metadata": {},
   "source": [
    "If you want to check if a spot in the tip rack has a tip, call `TipSpot.has_tip()`. This could be useful if you are writing a script with many operations and want to automatically calculate where you should grab your next tip from."
   ]
  },
  {
   "cell_type": "code",
   "execution_count": 25,
   "id": "0b9a66e5-ac0c-456f-aad0-7c3597925da7",
   "metadata": {},
   "outputs": [
    {
     "data": {
      "text/plain": [
       "False"
      ]
     },
     "execution_count": 25,
     "metadata": {},
     "output_type": "execute_result"
    }
   ],
   "source": [
    "tip_rack[\"A1\"][0].has_tip()"
   ]
  },
  {
   "cell_type": "code",
   "execution_count": 44,
   "id": "25ff6efc-bf4b-49b2-9b37-4386d2f080af",
   "metadata": {},
   "outputs": [
    {
     "name": "stdout",
     "output_type": "stream",
     "text": [
      "Aspirating [Aspiration(resource=Tube(name=tube_rack_A1, location=(018.210, 075.430, 041.270), size_x=6.223, size_y=6.223, size_z=39.1, category=tube), offset=None, tip=Tip(has_filter=False, total_tip_length=59.3, maximal_volume=300.0, fitting_depth=7.47), volume=200, flow_rate=None, liquid_height=None, blow_out_air_volume=None, liquids=[('Dye_0', 200)])].\n"
     ]
    }
   ],
   "source": [
    "await lh.aspirate(tube_rack[\"A1\"], vols=[200])"
   ]
  },
  {
   "cell_type": "code",
   "execution_count": 26,
   "id": "5f55c2d7-6e9c-4190-a1d7-ef65e7a93915",
   "metadata": {},
   "outputs": [
    {
     "name": "stdout",
     "output_type": "stream",
     "text": [
      "Aspirating [Aspiration(resource=Tube(name=tube_rack_A1, location=(018.210, 075.430, 041.270), size_x=6.223, size_y=6.223, size_z=39.1, category=tube), offset=None, tip=Tip(has_filter=False, total_tip_length=59.3, maximal_volume=300.0, fitting_depth=7.47), volume=200, flow_rate=None, liquid_height=None, blow_out_air_volume=None, liquids=[('Dye_0', 200)])].\n",
      "Dispensing [Dispense(resource=Well(name=prep_plate_A1, location=(014.380, 074.240, 003.550), size_x=4.851, size_y=4.851, size_z=10.67, category=well), offset=None, tip=Tip(has_filter=False, total_tip_length=59.3, maximal_volume=300.0, fitting_depth=7.47), volume=200, flow_rate=None, liquid_height=None, blow_out_air_volume=None, liquids=[('Dye_0', 200)])].\n"
     ]
    },
    {
     "ename": "HasTipError",
     "evalue": "Tip spot already has a tip.",
     "output_type": "error",
     "traceback": [
      "\u001b[0;31m---------------------------------------------------------------------------\u001b[0m",
      "\u001b[0;31mHasTipError\u001b[0m                               Traceback (most recent call last)",
      "\u001b[0;32m/tmp/ipykernel_727/3932198594.py\u001b[0m in \u001b[0;36m<module>\u001b[0;34m\u001b[0m\n\u001b[1;32m      6\u001b[0m \u001b[0mtime\u001b[0m\u001b[0;34m.\u001b[0m\u001b[0msleep\u001b[0m\u001b[0;34m(\u001b[0m\u001b[0;36m2\u001b[0m\u001b[0;34m)\u001b[0m\u001b[0;34m\u001b[0m\u001b[0;34m\u001b[0m\u001b[0m\n\u001b[1;32m      7\u001b[0m \u001b[0;34m\u001b[0m\u001b[0m\n\u001b[0;32m----> 8\u001b[0;31m \u001b[0;32mawait\u001b[0m \u001b[0mlh\u001b[0m\u001b[0;34m.\u001b[0m\u001b[0mreturn_tips\u001b[0m\u001b[0;34m(\u001b[0m\u001b[0;34m)\u001b[0m\u001b[0;34m\u001b[0m\u001b[0;34m\u001b[0m\u001b[0m\n\u001b[0m",
      "\u001b[0;32m/mnt/d/Chory Lab/PyLabRobot/pylabrobot/liquid_handling/liquid_handler.py\u001b[0m in \u001b[0;36mreturn_tips\u001b[0;34m(self, use_channels, **backend_kwargs)\u001b[0m\n\u001b[1;32m    559\u001b[0m       \u001b[0;32mraise\u001b[0m \u001b[0mRuntimeError\u001b[0m\u001b[0;34m(\u001b[0m\u001b[0;34m\"No tips have been picked up.\"\u001b[0m\u001b[0;34m)\u001b[0m\u001b[0;34m\u001b[0m\u001b[0;34m\u001b[0m\u001b[0m\n\u001b[1;32m    560\u001b[0m \u001b[0;34m\u001b[0m\u001b[0m\n\u001b[0;32m--> 561\u001b[0;31m     \u001b[0;32mreturn\u001b[0m \u001b[0;32mawait\u001b[0m \u001b[0mself\u001b[0m\u001b[0;34m.\u001b[0m\u001b[0mdrop_tips\u001b[0m\u001b[0;34m(\u001b[0m\u001b[0mtip_spots\u001b[0m\u001b[0;34m=\u001b[0m\u001b[0mtip_spots\u001b[0m\u001b[0;34m,\u001b[0m \u001b[0muse_channels\u001b[0m\u001b[0;34m=\u001b[0m\u001b[0mchannels\u001b[0m\u001b[0;34m,\u001b[0m \u001b[0;34m**\u001b[0m\u001b[0mbackend_kwargs\u001b[0m\u001b[0;34m)\u001b[0m\u001b[0;34m\u001b[0m\u001b[0;34m\u001b[0m\u001b[0m\n\u001b[0m\u001b[1;32m    562\u001b[0m \u001b[0;34m\u001b[0m\u001b[0m\n\u001b[1;32m    563\u001b[0m   async def discard_tips(\n",
      "\u001b[0;32m/mnt/d/Chory Lab/PyLabRobot/pylabrobot/machines/machine.py\u001b[0m in \u001b[0;36mwrapper\u001b[0;34m(self, *args, **kwargs)\u001b[0m\n\u001b[1;32m     23\u001b[0m     \u001b[0;32mif\u001b[0m \u001b[0;32mnot\u001b[0m \u001b[0mself\u001b[0m\u001b[0;34m.\u001b[0m\u001b[0msetup_finished\u001b[0m\u001b[0;34m:\u001b[0m\u001b[0;34m\u001b[0m\u001b[0;34m\u001b[0m\u001b[0m\n\u001b[1;32m     24\u001b[0m       \u001b[0;32mraise\u001b[0m \u001b[0mRuntimeError\u001b[0m\u001b[0;34m(\u001b[0m\u001b[0;34m\"The setup has not finished. See `setup`.\"\u001b[0m\u001b[0;34m)\u001b[0m\u001b[0;34m\u001b[0m\u001b[0;34m\u001b[0m\u001b[0m\n\u001b[0;32m---> 25\u001b[0;31m     \u001b[0;32mreturn\u001b[0m \u001b[0;32mawait\u001b[0m \u001b[0mfunc\u001b[0m\u001b[0;34m(\u001b[0m\u001b[0mself\u001b[0m\u001b[0;34m,\u001b[0m \u001b[0;34m*\u001b[0m\u001b[0margs\u001b[0m\u001b[0;34m,\u001b[0m \u001b[0;34m**\u001b[0m\u001b[0mkwargs\u001b[0m\u001b[0;34m)\u001b[0m\u001b[0;34m\u001b[0m\u001b[0;34m\u001b[0m\u001b[0m\n\u001b[0m\u001b[1;32m     26\u001b[0m   \u001b[0;32mreturn\u001b[0m \u001b[0mwrapper\u001b[0m\u001b[0;34m\u001b[0m\u001b[0;34m\u001b[0m\u001b[0m\n\u001b[1;32m     27\u001b[0m \u001b[0;34m\u001b[0m\u001b[0m\n",
      "\u001b[0;32m/mnt/d/Chory Lab/PyLabRobot/pylabrobot/liquid_handling/liquid_handler.py\u001b[0m in \u001b[0;36mdrop_tips\u001b[0;34m(self, tip_spots, use_channels, offsets, allow_nonzero_volume, **backend_kwargs)\u001b[0m\n\u001b[1;32m    489\u001b[0m       \u001b[0;32mif\u001b[0m \u001b[0mdoes_tip_tracking\u001b[0m\u001b[0;34m(\u001b[0m\u001b[0;34m)\u001b[0m \u001b[0;32mand\u001b[0m \u001b[0misinstance\u001b[0m\u001b[0;34m(\u001b[0m\u001b[0mop\u001b[0m\u001b[0;34m.\u001b[0m\u001b[0mresource\u001b[0m\u001b[0;34m,\u001b[0m \u001b[0mTipSpot\u001b[0m\u001b[0;34m)\u001b[0m \u001b[0;32mand\u001b[0m\u001b[0;31m \u001b[0m\u001b[0;31m\\\u001b[0m\u001b[0;34m\u001b[0m\u001b[0;34m\u001b[0m\u001b[0m\n\u001b[1;32m    490\u001b[0m           \u001b[0;32mnot\u001b[0m \u001b[0mop\u001b[0m\u001b[0;34m.\u001b[0m\u001b[0mresource\u001b[0m\u001b[0;34m.\u001b[0m\u001b[0mtracker\u001b[0m\u001b[0;34m.\u001b[0m\u001b[0mis_disabled\u001b[0m\u001b[0;34m:\u001b[0m\u001b[0;34m\u001b[0m\u001b[0;34m\u001b[0m\u001b[0m\n\u001b[0;32m--> 491\u001b[0;31m         \u001b[0mop\u001b[0m\u001b[0;34m.\u001b[0m\u001b[0mresource\u001b[0m\u001b[0;34m.\u001b[0m\u001b[0mtracker\u001b[0m\u001b[0;34m.\u001b[0m\u001b[0madd_tip\u001b[0m\u001b[0;34m(\u001b[0m\u001b[0mop\u001b[0m\u001b[0;34m.\u001b[0m\u001b[0mtip\u001b[0m\u001b[0;34m,\u001b[0m \u001b[0mcommit\u001b[0m\u001b[0;34m=\u001b[0m\u001b[0;32mFalse\u001b[0m\u001b[0;34m)\u001b[0m\u001b[0;34m\u001b[0m\u001b[0;34m\u001b[0m\u001b[0m\n\u001b[0m\u001b[1;32m    492\u001b[0m       \u001b[0mself\u001b[0m\u001b[0;34m.\u001b[0m\u001b[0mhead\u001b[0m\u001b[0;34m[\u001b[0m\u001b[0mchannel\u001b[0m\u001b[0;34m]\u001b[0m\u001b[0;34m.\u001b[0m\u001b[0mremove_tip\u001b[0m\u001b[0;34m(\u001b[0m\u001b[0;34m)\u001b[0m\u001b[0;34m\u001b[0m\u001b[0;34m\u001b[0m\u001b[0m\n\u001b[1;32m    493\u001b[0m \u001b[0;34m\u001b[0m\u001b[0m\n",
      "\u001b[0;32m/mnt/d/Chory Lab/PyLabRobot/pylabrobot/resources/tip_tracker.py\u001b[0m in \u001b[0;36madd_tip\u001b[0;34m(self, tip, origin, commit)\u001b[0m\n\u001b[1;32m     82\u001b[0m       \u001b[0;32mraise\u001b[0m \u001b[0mRuntimeError\u001b[0m\u001b[0;34m(\u001b[0m\u001b[0;34m\"Tip tracker is disabled. Call `enable()`.\"\u001b[0m\u001b[0;34m)\u001b[0m\u001b[0;34m\u001b[0m\u001b[0;34m\u001b[0m\u001b[0m\n\u001b[1;32m     83\u001b[0m     \u001b[0;32mif\u001b[0m \u001b[0mself\u001b[0m\u001b[0;34m.\u001b[0m\u001b[0m_pending_tip\u001b[0m \u001b[0;32mis\u001b[0m \u001b[0;32mnot\u001b[0m \u001b[0;32mNone\u001b[0m\u001b[0;34m:\u001b[0m\u001b[0;34m\u001b[0m\u001b[0;34m\u001b[0m\u001b[0m\n\u001b[0;32m---> 84\u001b[0;31m       \u001b[0;32mraise\u001b[0m \u001b[0mHasTipError\u001b[0m\u001b[0;34m(\u001b[0m\u001b[0;34mf\"{self.thing} already has a tip.\"\u001b[0m\u001b[0;34m)\u001b[0m\u001b[0;34m\u001b[0m\u001b[0;34m\u001b[0m\u001b[0m\n\u001b[0m\u001b[1;32m     85\u001b[0m     \u001b[0mself\u001b[0m\u001b[0;34m.\u001b[0m\u001b[0m_pending_tip\u001b[0m \u001b[0;34m=\u001b[0m \u001b[0mtip\u001b[0m\u001b[0;34m\u001b[0m\u001b[0;34m\u001b[0m\u001b[0m\n\u001b[1;32m     86\u001b[0m \u001b[0;34m\u001b[0m\u001b[0m\n",
      "\u001b[0;31mHasTipError\u001b[0m: Tip spot already has a tip."
     ]
    }
   ],
   "source": [
    "await lh.aspirate(tube_rack[\"A1\"], vols=[200])\n",
    "time.sleep(2)\n",
    "\n",
    "await lh.dispense(plate[\"A1\"], vols=[200])\n",
    "#plate[\"A1\"][0].tracker.commit()\n",
    "time.sleep(2)\n",
    "\n",
    "await lh.return_tips()"
   ]
  },
  {
   "cell_type": "code",
   "execution_count": 55,
   "id": "e51ed207-74e3-4ad1-9aa4-7a79ece40016",
   "metadata": {},
   "outputs": [
    {
     "name": "stdout",
     "output_type": "stream",
     "text": [
      "Spot A1 contains:\n",
      "200uL of Dye_0\n"
     ]
    }
   ],
   "source": [
    "print_filled_spots_of_tubeRack(plate)"
   ]
  },
  {
   "cell_type": "code",
   "execution_count": 27,
   "id": "7ac2d2e3-dfb0-4d5f-8aee-8769cfd804f1",
   "metadata": {},
   "outputs": [
    {
     "name": "stdout",
     "output_type": "stream",
     "text": [
      "Picking up tips [Pickup(resource=TipSpot(name=tip_rack_A1, location=(014.380, 074.240, 005.390), size_x=3.698, size_y=3.698, size_z=0, category=tip_spot), offset=None, tip=Tip(has_filter=False, total_tip_length=59.3, maximal_volume=300.0, fitting_depth=7.47))].\n",
      "Aspirating [Aspiration(resource=Well(name=prep_plate_A1, location=(014.380, 074.240, 003.550), size_x=4.851, size_y=4.851, size_z=10.67, category=well), offset=None, tip=Tip(has_filter=False, total_tip_length=59.3, maximal_volume=300.0, fitting_depth=7.47), volume=100, flow_rate=None, liquid_height=None, blow_out_air_volume=None, liquids=[('Dye_0', 100)])].\n",
      "Dispensing [Dispense(resource=Tube(name=tube_rack_A1, location=(018.210, 075.430, 041.270), size_x=6.223, size_y=6.223, size_z=39.1, category=tube), offset=None, tip=Tip(has_filter=False, total_tip_length=59.3, maximal_volume=300.0, fitting_depth=7.47), volume=100, flow_rate=None, liquid_height=None, blow_out_air_volume=None, liquids=[('Dye_0', 100)])].\n",
      "Dropping tips [Drop(resource=TipSpot(name=tip_rack_A1, location=(014.380, 074.240, 005.390), size_x=3.698, size_y=3.698, size_z=0, category=tip_spot), offset=None, tip=Tip(has_filter=False, total_tip_length=59.3, maximal_volume=300.0, fitting_depth=7.47))].\n"
     ]
    }
   ],
   "source": [
    "await lh.pick_up_tips(tip_rack[\"A1\"])\n",
    "time.sleep(1)\n",
    "\n",
    "await lh.aspirate(plate[\"A1\"], vols=[200])\n",
    "time.sleep(1)\n",
    "\n",
    "await lh.dispense(tube_rack[\"A1\"], vols=[200])\n",
    "time.sleep(1)\n",
    "\n",
    "await lh.return_tips()"
   ]
  }
 ],
 "metadata": {
  "kernelspec": {
   "display_name": "Python 3 (ipykernel)",
   "language": "python",
   "name": "python3"
  },
  "language_info": {
   "codemirror_mode": {
    "name": "ipython",
    "version": 3
   },
   "file_extension": ".py",
   "mimetype": "text/x-python",
   "name": "python",
   "nbconvert_exporter": "python",
   "pygments_lexer": "ipython3",
   "version": "3.10.4"
  }
 },
 "nbformat": 4,
 "nbformat_minor": 5
}
