{
 "cells": [
  {
   "cell_type": "markdown",
   "id": "b7b199c9-7761-4aa1-96bd-5575cb55eb8a",
   "metadata": {},
   "source": [
    "# Third Notebook - Moving labware on the deck, ELISA part 1\n",
    "* iSwap to move labware on the hamilton robots\n",
    "* Putting lids on top of things, removing lids\n",
    "* Run ELISA protocol according to OpenTrons teaching lab work\n",
    "* Have students use delays to automate incubation steps\n",
    "* Introduce concept of parenting: carriers holds plates which hold wells\n",
    "* Imagine doing an ELISA, want to mitigate splashing, and take a measurement on plate reader\n",
    "* Keep plate on ELISA for sterilization\n",
    "* Remove lid from plate\n",
    "* Move plate onto plate reader"
   ]
  },
  {
   "cell_type": "markdown",
   "id": "ebcce8c4-91a3-4a9a-ade8-e650ee166299",
   "metadata": {},
   "source": [
    "# Fourth Notebook - Peripherals, ELISA part 2\n",
    "* Demonstrate using the plate reader\n",
    "* Probably using Pandas to wrangle .csv data\n",
    "* Generating dummy data for an external integration\n",
    "* Talk about different formats of output data from plate readers\n",
    "* \"take measurement\", add dummy data as simulated output\n",
    "* Remove plate from plate reader, remove lid"
   ]
  },
  {
   "cell_type": "code",
   "execution_count": null,
   "id": "329a6173-f3d1-4e38-9845-c1406d488c39",
   "metadata": {},
   "outputs": [],
   "source": []
  },
  {
   "cell_type": "markdown",
   "id": "3fe210ff-d7bf-4da6-bada-e99652fc5029",
   "metadata": {},
   "source": [
    "3 Parts:\n",
    "\n",
    "1. Make an equipment interface class with a simulation parameter\n",
    "2. Have a way to return structured data from the simulator, must be in format that resembles output from instrument\n",
    "3. Parse data in Python\n",
    "4. Use data in workflow, somehow the python code parses this ordered data and does stuff on it\n",
    "\n",
    "DNA Quantification and Dilution\n",
    "\n",
    "Get stock plate -> add sample to reader plate -> get concentration values -> add water to the stock plate to make uniform concentration\n",
    "\n",
    "1. How do we relate plate reader output to DNA concentration?\n",
    "2. Linear slope of fluorescence vs concentration\n",
    "3. Target concentration == 20 ng/uL,\n",
    "4. Example initial volume is 50 uL\n",
    "5. Example initial concentration = normal distribution around 50 ng/uL, std of 20\n",
    "6. Final volume cannot exceed max capacity of well, add volume up to max, if it can't get diluted make sure that you note this\n",
    "8. Read plate final volume will be 5 uL\n",
    "9. There are two plates, one stock plate, one reader plate\n",
    "10. You will add water to the stock plate to perform the dilution\n",
    "11. Make sure to produce an output csv that contains the final concentrations"
   ]
  }
 ],
 "metadata": {
  "kernelspec": {
   "display_name": "Python 3 (ipykernel)",
   "language": "python",
   "name": "python3"
  },
  "language_info": {
   "codemirror_mode": {
    "name": "ipython",
    "version": 3
   },
   "file_extension": ".py",
   "mimetype": "text/x-python",
   "name": "python",
   "nbconvert_exporter": "python",
   "pygments_lexer": "ipython3",
   "version": "3.10.4"
  }
 },
 "nbformat": 4,
 "nbformat_minor": 5
}
