{
 "cells": [
  {
   "cell_type": "markdown",
   "id": "8dbbadf0-ac05-44a6-a303-e7e71691ed9a",
   "metadata": {},
   "source": [
    "# 1 Intro to PyLabRobot: OT2"
   ]
  },
  {
   "cell_type": "markdown",
   "id": "b23bc961-5192-4dd6-a1b8-a17f43530812",
   "metadata": {},
   "source": [
    "## Learning Objectives:\n",
    "1. L.O. 1\n",
    "2. L.O. 2\n",
    "3. L.O. 3\n",
    "4. ...\n",
    "5. L.O. N"
   ]
  },
  {
   "cell_type": "markdown",
   "id": "dbf282ed-8386-4950-8ac0-79bf1b994936",
   "metadata": {},
   "source": [
    "### 1.0.1 In this tutorial, you will see how to instantiate an OT2 Deck, how to add labware, and how to move liquids around.\n",
    "#### If you ever get stuck, click the circley arrow at the top of the notebook to restart your progress!\n",
    "\n",
    "First we will import `LiquidHandler`, a backend called `ChatterBoxBackend` that prints the text\n",
    "output of our commands, a class `Visualizer` that provides a visualization of the robot deck as we\n",
    "run commands, and a class `OTDeck` that will represent the deck of an OpenTrons OT2, one of\n",
    "the most widely used liquid handling robots. \n",
    "\n",
    "Make sure to also `import opentrons` !"
   ]
  },
  {
   "cell_type": "markdown",
   "id": "0b6ee87a-a089-4a5b-9b60-852d1e1f8874",
   "metadata": {},
   "source": [
    "### 1.0.2 Imports"
   ]
  },
  {
   "cell_type": "code",
   "execution_count": 28,
   "id": "e6aabd96-8ec3-412e-96c2-e3b21b76abcb",
   "metadata": {},
   "outputs": [],
   "source": [
    "import sys"
   ]
  },
  {
   "cell_type": "code",
   "execution_count": 29,
   "id": "d3efc807-82b3-46e8-90b6-53439f357f19",
   "metadata": {},
   "outputs": [
    {
     "name": "stdout",
     "output_type": "stream",
     "text": [
      "3.10.4 (main, Jun 29 2022, 12:14:53) [GCC 11.2.0]\n"
     ]
    }
   ],
   "source": [
    "# Make sure you are running Python version 3.10!\n",
    "print(sys.version)"
   ]
  },
  {
   "cell_type": "code",
   "execution_count": 30,
   "id": "9faf434a-2fc5-44cf-8dc9-7a68475d47bf",
   "metadata": {},
   "outputs": [],
   "source": [
    "import pylabrobot"
   ]
  },
  {
   "cell_type": "code",
   "execution_count": 31,
   "id": "63636707-3e3c-4aba-b8eb-1e702875d391",
   "metadata": {},
   "outputs": [],
   "source": [
    "# Importing necessary modules from the PyLabRobot package to handle liquids and␣visualize processes.\n",
    "from pylabrobot.liquid_handling import LiquidHandler\n",
    "from pylabrobot.liquid_handling.backends import ChatterBoxBackend\n",
    "from pylabrobot.visualizer.visualizer import Visualizer\n",
    "\n",
    "# This import provides access to OTDeck, which represents the deck of an␣Opentrons robot.\n",
    "from pylabrobot.resources.opentrons import OTDeck\n",
    "# Loading and Plate Management\n",
    "\n",
    "# Imports functions and classes to load resources and manage plate types␣specific to Opentrons robots.\n",
    "from pylabrobot.resources.opentrons.load import *\n",
    "from pylabrobot.resources.opentrons.plates import *\n",
    "\n",
    "# Tracking and Contamination Prevention\n",
    "# Enables tracking of tip usage, liquid volume, and helps prevent␣cross-contamination in experiments.\n",
    "from pylabrobot.resources import set_tip_tracking, set_volume_tracking, set_cross_contamination_tracking\n",
    "\n",
    "# Optional, use when interested in tracking the state of tips and volumes, generally keep this on\n",
    "set_tip_tracking(True), set_volume_tracking(True)\n",
    "\n",
    "# Optional, use when interested in protecting against accidental cross contamination\n",
    "set_cross_contamination_tracking(True)\n",
    "\n",
    "# External Libraries\n",
    "# Importing standard libraries for additional functionality.\n",
    "import opentrons # Provides access to Opentrons API for robot control.\n",
    "import time # Allows for adding delays in the robot's operation for timing␣experiments.\n"
   ]
  },
  {
   "cell_type": "markdown",
   "id": "10bcab3e-f908-479a-8e63-1fecfbe9ecf7",
   "metadata": {},
   "source": [
    "### 1.0.3 Setting up the Deck and Visualizer"
   ]
  },
  {
   "cell_type": "markdown",
   "id": "10f71149-b448-4849-bf8b-f415be2572d1",
   "metadata": {},
   "source": [
    "List of available decks:\n",
    "1. **Opentrons OT2**: deck = OTDeck()\n",
    "2. **Hamilton STAR**: deck = STARDeck()\n",
    "3. **Hamilton STARLet**: deck = STARLetDeck()\n",
    "5. **Hamilton Vantage**: deck = VantageDeck(size=1.3), *size must be either 1.3 or 2.0 (meters)*\n",
    "6. **Tecan EVO100**: deck = EVO100Deck() \n",
    "7. **Tecan EVO150**: deck = EVO150Deck()\n",
    "8. **Tecan EVO200**: deck = EVO200Deck()\n",
    "\n",
    "**NOTE!** If you want to use a deck, you must import it from the PLR code! The general pattern is `from pylabrobot.resources.BLAH import BLAH_DECK`\n",
    "\n",
    "**For this tutorial, we will proceed with using the OpenTrons OT2 deck.**"
   ]
  },
  {
   "cell_type": "markdown",
   "id": "7a612e7b-d246-4c75-874c-1b053ab2aeda",
   "metadata": {},
   "source": [
    "First, we will create an instance of the `LiquidHandler` class. This may take some time to set up, so we run the `setup()` function with the `await` keyword. The set-up is finished when the left side of the cell turns from [*]: to [NUMBER]:"
   ]
  },
  {
   "cell_type": "code",
   "execution_count": 32,
   "id": "cb5eb1ee-a1ae-4fd3-afff-78967d6e9f95",
   "metadata": {},
   "outputs": [
    {
     "name": "stdout",
     "output_type": "stream",
     "text": [
      "Setting up the robot.\n",
      "Resource deck was assigned to the robot.\n",
      "Resource trash_container was assigned to the robot.\n"
     ]
    }
   ],
   "source": [
    "lh = LiquidHandler(backend=ChatterBoxBackend(), deck=OTDeck())\n",
    "\n",
    "await lh.setup()"
   ]
  },
  {
   "cell_type": "markdown",
   "id": "c044f917-ae75-4e17-80e1-7ad0f13b64cc",
   "metadata": {},
   "source": [
    "After initializing our `LiquidHandler`, we want to create an instance of a `Visualizer`. This will allow you to see the Deck and follow your protocol in real time. You can see how tips and liquids move as you run commands. Make sure to open the `Visualizer` in another window."
   ]
  },
  {
   "cell_type": "code",
   "execution_count": 33,
   "id": "9ce8270d-91ed-4836-a742-ab5375c4fdaa",
   "metadata": {},
   "outputs": [
    {
     "name": "stdout",
     "output_type": "stream",
     "text": [
      "Websocket server started at http://127.0.0.1:2123\n",
      "File server started at http://127.0.0.1:1339 . Open this URL in your browser.\n"
     ]
    }
   ],
   "source": [
    "vis = Visualizer(resource=lh)\n",
    "await vis.setup()"
   ]
  },
  {
   "cell_type": "markdown",
   "id": "70c070bd-f7fd-47c4-9c98-65674fa776fc",
   "metadata": {},
   "source": [
    "### 1.0.4 Adding Labware to the Deck"
   ]
  },
  {
   "cell_type": "markdown",
   "id": "4d0024ee-4722-4b99-afad-3bba67388855",
   "metadata": {},
   "source": [
    "Now, we are ready to add some labware to the deck. **PyLabRobot** has many different labware items already defined. Only import the ones that you need for your protocol. A full list of labware can be found in [`PyLabRobot\\Resources\\opentrons`](https://github.com/PyLabRobot/pylabrobot/tree/main/pylabrobot/resources). You can also create custom labware, but that is out of scope for this tutorial.\n",
    "\n",
    "Let's begin by importing a `TubeRack`, a `TipRack`, and a `Plate`.\n",
    "<details>\n",
    "    <summary>Definitions of Labware:</summary>\n",
    "    \n",
    "* **TubeRack** = Used to hold various tubes, commonly the 2mL Eppendorfs.\n",
    "\n",
    "* **TipRack** = Labware that holds pipette tips.\n",
    "\n",
    "* **Plate** = Well-Plate that one can add liquids to.\n",
    "</details>"
   ]
  },
  {
   "cell_type": "code",
   "execution_count": 34,
   "id": "71889711-e068-4e7e-b158-128a9491a1a0",
   "metadata": {},
   "outputs": [],
   "source": [
    "from pylabrobot.resources import (\n",
    "    opentrons_24_tuberack_eppendorf_2ml_safelock_snapcap,\n",
    "    opentrons_96_tiprack_300ul,\n",
    "    corning_96_wellplate_360ul_flat\n",
    ")"
   ]
  },
  {
   "cell_type": "markdown",
   "id": "fae79fcb-7dbb-4145-a03a-eef0da7d6e38",
   "metadata": {},
   "source": [
    "**Note:** The OT2 has **11 spots** for labware and a built-in trash can for discarding tips.\n",
    "\n",
    "When designing a protocol, consider both `layout efficiency` and minimizing contamination. Efficient layout reduces pipette travel time, while thoughtful placement minimizes contamination risks. Place tip racks at the back, stocks in the middle, and plates at the front to allow for `linear movement`. For example, the arm grabs a **tip from slot 7**, aspirates **stock from slot 4**, and dispenses in **slot 1**. Reducing travel time decreases protocol runtime.\n",
    "\n",
    "Minimizing contamination is akin to sterile technique in manual lab work. In automation, prioritize placement **from clean to contaminated**:\n",
    "\n",
    "`clean tips -> fresh media -> bacteria -> waste -> bleach`. Tips should move from **most sterile to least sterile**, and cleaned tips should return to their original position. Avoid allowing contaminated tips to fly over sterile items. For example, in PCR, tips holding primers should not pass over sterile water to prevent downstream contamination.\n",
    "\n",
    "Use `assign_child_at_slot()` to place labware on the deck, passing the desired labware and slot number. Balancing efficiency and contamination control often requires trial and error, with best practices evolving through experimentation and validation.\n",
    "\n",
    "Use `unassign_child_resource()` to remove labware from the deck. Pass in the variable holding the labware, not the spot it is currently at."
   ]
  },
  {
   "cell_type": "markdown",
   "id": "fd54aff2-386e-43b1-8c00-82f51add2c5e",
   "metadata": {},
   "source": [
    "#### Demo Code:"
   ]
  },
  {
   "cell_type": "code",
   "execution_count": null,
   "id": "8849ffbe-ffb2-4784-a1e9-7578a45059d3",
   "metadata": {},
   "outputs": [],
   "source": [
    "# Let's add a tube rack to spot 4\n",
    "# Declare a tube rack object from the labware we imported\n",
    "tube_rack = opentrons_24_tuberack_eppendorf_2ml_safelock_snapcap(\"tube_rack\")\n",
    "\n",
    "# Assign the tube rack to spot 4 of the deck\n",
    "lh.deck.assign_child_at_slot(tube_rack, 4)"
   ]
  },
  {
   "cell_type": "code",
   "execution_count": null,
   "id": "8fd16483-0f8b-488e-bfc5-a10757762096",
   "metadata": {},
   "outputs": [],
   "source": [
    "# If you want to remove the labware, pass it in to the following function\n",
    "lh.deck.unassign_child_resource(tube_rack)"
   ]
  },
  {
   "cell_type": "markdown",
   "id": "cdf6aaf5-7438-4a11-8df3-d85a48bbfdca",
   "metadata": {},
   "source": [
    "#### Your turn!"
   ]
  },
  {
   "cell_type": "code",
   "execution_count": null,
   "id": "c4c43470-21ff-4b3f-9a36-cdc3c0d97403",
   "metadata": {},
   "outputs": [],
   "source": [
    "# When you instantiate a labware, give it a name that will show when you\n",
    "# mouse over it in the visualizer. Make sure to call the labware we imported in the\n",
    "# previous step. Call the variable \"tip_rack\"\n",
    "\n",
    "... = opentrons_blah_blah_tiprack_(\"your name here\")\n",
    "\n",
    "lh.deck.assign_child_at_slot(?, 7)"
   ]
  },
  {
   "cell_type": "code",
   "execution_count": null,
   "id": "3740eb57-80bd-498b-95d5-725b9487c196",
   "metadata": {},
   "outputs": [],
   "source": [
    "# Add in the tube rack we imported\n",
    "# Call it tube_rack\n",
    "\n",
    "... = opentrons_blah_blah_tubeRack(\"your name here\")\n",
    "\n",
    "lh.deck.assign_child_at_slot(?, 4)"
   ]
  },
  {
   "cell_type": "code",
   "execution_count": null,
   "id": "fd6a17ea-b41e-4033-a914-81b2d87635b9",
   "metadata": {},
   "outputs": [],
   "source": [
    "# Plate for Sample Preparation\n",
    "# Call this plate \"prep_plate\"\n",
    "... = corning_blah_blah_plate(\"you get the idea\")\n",
    "\n",
    "lh.deck.assign_child_at_slot(?, 1)"
   ]
  },
  {
   "cell_type": "code",
   "execution_count": null,
   "id": "8f58b38f-d40b-4a07-8162-b31d87fdcb12",
   "metadata": {},
   "outputs": [],
   "source": [
    "print(lh.deck.summary())"
   ]
  },
  {
   "cell_type": "markdown",
   "id": "b7c49e37-543c-49b5-86f0-5c9df9bdd5a1",
   "metadata": {},
   "source": [
    "### 1.0.5 Adding Liquids to the Deck"
   ]
  },
  {
   "cell_type": "markdown",
   "id": "b757ebe8-be14-48af-bda6-f377a8769d0b",
   "metadata": {},
   "source": [
    "To begin, let's manually load some liquids to our `tube_rack`. In the real world, this is something you would do as preparation for running an automatic protocol. We can add up to the `max_volume` of the tube. If you go over this number, **PyLabRobot** will throw an error. We shall add 2000µL of 4 different dyes to the first column of our `tube_rack`. This corresponds to wells *A1, B1, C1, and D1*.\n",
    "\n",
    "To iterate over locations on labware, we use the `traverse()` function. This produces a [generator object](https://www.geeksforgeeks.org/generators-in-python/) that we use the `next` keyword on to yield our desired wells.\n",
    "\n",
    "`traverse()` takes in two arguments: **batch_size** is the amount of wells to return, and **direction** is how to iterate over the wells. In our case, we use `\"down\"` to return the wells column wise.\n",
    "\n",
    "<details>\n",
    "    <summary>More info on <b>direction:</summary>\n",
    "\n",
    "* `\"down\"`, `\"snake_down\"`, `\"right\"`, and `\"snake_right\"` start at the top left item **(A1)**.\n",
    "        \n",
    "* `\"up\"` and `\"snake_up\"` start at the bottom left **(H1)**.\n",
    "    \n",
    "* `\"left\"` and `\"snake_left\"` start at the top right **(A12)**.\n",
    "\n",
    "* The `snake` directions alternate between going in the given direction and going in the opposite direction. For example, `\"snake_down\"` will go from A1 to H1, then H2 to A2, then A3 to H3, etc.\n",
    "</details>"
   ]
  },
  {
   "cell_type": "code",
   "execution_count": null,
   "id": "aca186f8-922b-4226-89ef-e6cfe886b512",
   "metadata": {},
   "outputs": [],
   "source": [
    "# Make sure the tube rack you instantiated is called \"tube_rack\", or change this\n",
    "# code to match your custom name.\n",
    "\n",
    "first_col_tubes = next(tube_rack.traverse(batch_size=4, direction='down'))\n",
    "first_col_tubes"
   ]
  },
  {
   "cell_type": "markdown",
   "id": "88f4e079-81e1-441c-923c-63e2a8b1cfb7",
   "metadata": {},
   "source": [
    "Use the `tracker.set_liquids()` function to put liquid in a `tube`. The `tracker` class contains all of the methods associated with keeping record of how much/what kind of liquid is in a given container.\n",
    "\n",
    "Pass in a string for **\"Liquid_Type\"** and a number for **Volume** to this function.\n",
    "\n",
    "Let's add our dyes to the tubes in `first_col_tubes`."
   ]
  },
  {
   "cell_type": "code",
   "execution_count": null,
   "id": "876af18c-fdde-4a78-8261-b9a61c580988",
   "metadata": {},
   "outputs": [],
   "source": [
    "for i in range(len(first_col_tubes)):\n",
    "    # [(liquid, volume)]\n",
    "    first_col_tubes[i].tracker.set_liquids([(f\"Dye_{i}\", 2000)])"
   ]
  },
  {
   "cell_type": "markdown",
   "id": "1e0137ea-bd0f-4a8f-9785-3b7aafe5c7dd",
   "metadata": {
    "jp-MarkdownHeadingCollapsed": true
   },
   "source": [
    "##### Here's a Utility function for printing all of the filled spots of any labware."
   ]
  },
  {
   "cell_type": "code",
   "execution_count": null,
   "id": "ee999023-9b95-41b0-90c4-4e05bc65d629",
   "metadata": {},
   "outputs": [],
   "source": [
    "def print_filled_spots_of_labware(labware):\n",
    "    \n",
    "    # Retrieve all children within the specified labware (tubes of a tube rack, wells of a wellplate, etc)\n",
    "    # Note, for this explanation I am using the word \"tube\" to refer to the children of the parent labware\n",
    "    # Actually, this can be anything, so if you call the function on a well plate it will return the individual wells!\n",
    "\n",
    "    # Get all children of the input labware\n",
    "    all_tubes = labware.get_all_children()\n",
    "\n",
    "    # Flag to check if all tubes are empty\n",
    "    all_empty = True\n",
    "\n",
    "    # Iterate through each tube in the labware\n",
    "    for tube in all_tubes:\n",
    "        # Access the current status of liquids in the tube\n",
    "        liquid = tube.tracker.liquids\n",
    "\n",
    "        # Check if the tube contains any liquid\n",
    "        if liquid != []:\n",
    "            # Print the position and contents of the tube\n",
    "            print(f\"Spot {tube.name.split('_')[-1]} contains:\")\n",
    "\n",
    "            # Extract and store the name of the liquid\n",
    "            name = liquid[0][0]\n",
    "            # Extract and store the volume of the liquid\n",
    "            vol = liquid[0][1]\n",
    "\n",
    "            # Output the volume and name of the liquid in the tube\n",
    "            print(f\"{vol}uL of {name}\")\n",
    "\n",
    "            # Update the flag since this tube is not empty\n",
    "            all_empty = False\n",
    "            \n",
    "    # Check if all tubes were empty and print message if true\n",
    "    if all_empty:\n",
    "        print(\"Entire labware is empty!\")"
   ]
  },
  {
   "cell_type": "markdown",
   "id": "59dd574a-e9f7-4761-a0b7-85c00bc1d08a",
   "metadata": {},
   "source": [
    "##### Let's give it a call!"
   ]
  },
  {
   "cell_type": "code",
   "execution_count": null,
   "id": "1832d167-395f-44fe-911b-1584b9a71281",
   "metadata": {},
   "outputs": [],
   "source": [
    "print_filled_spots_of_labware(tube_rack)"
   ]
  },
  {
   "cell_type": "code",
   "execution_count": null,
   "id": "c1e08eec-4b28-498b-8374-09a62b4cefa0",
   "metadata": {},
   "outputs": [],
   "source": [
    "# Try calling the function on your plate!\n",
    "# Hint, pass the plate in as a parameter\n",
    "# Hint, Hint, make sure the name of the function is correct ;)\n",
    "print_fi1led_spot_of_1abware(???)"
   ]
  },
  {
   "cell_type": "markdown",
   "id": "ffceed8a-b9c4-4824-85e4-2676957811f6",
   "metadata": {},
   "source": [
    "### 1.0.6 Moving Liquids from Point A to Point B"
   ]
  },
  {
   "cell_type": "markdown",
   "id": "4d7e2781-aee6-45a3-82a0-09a56e8452aa",
   "metadata": {},
   "source": [
    "Now that we've added some dyes to our tube rack, let's use the robot to move some liquid to our `prep_plate`. The first step of a liquid transfer is acquiring a tip.\n",
    "\n",
    "You can acquire a tip by calling `lh.pick_up_tips()`, and passing in the `TipSpots` of the tips you want to retrieve. `TipSpots` are indexed the same way that wells are.\n",
    "\n",
    "When a tip is picked up from a `TipRack`, it's location will turn white on the visualizer. To see what tips are currently on the robot, call `lh.head`. This returns a dictionary where the keys are the indices of the different channels of the main pipettor, and where the values are instances of the `TipTracker` class, allowing you to get information about how tips move on and off of a given channel.\n",
    "\n",
    "If you want to reset the state of tips on a robot, call `lh.return_tips()`. This function will automatically return the tips to their original locations."
   ]
  },
  {
   "cell_type": "code",
   "execution_count": null,
   "id": "be4dfa3a-4654-4b1e-917b-91fd163b0a04",
   "metadata": {
    "scrolled": true
   },
   "outputs": [],
   "source": [
    "# Careful! Don't call this function unless you currently have tips on the robot. If you attempt to call\n",
    "# return_tips() on an empty head, an error will occur!\n",
    "await lh.return_tips()"
   ]
  },
  {
   "cell_type": "markdown",
   "id": "3ad6d617-4927-4898-b3b0-5c6c896367c7",
   "metadata": {},
   "source": [
    "Let's try picking up 8 tips along the diagonal."
   ]
  },
  {
   "cell_type": "code",
   "execution_count": null,
   "id": "f1d968f1-1889-474e-8106-a55369d6e412",
   "metadata": {},
   "outputs": [],
   "source": [
    "await lh.pick_up_tips(tip_rack[\"A1\", \"B2\", \"C3\", \"D4\", \"E5\", \"F6\", \"G7\", \"H8\"])"
   ]
  },
  {
   "cell_type": "markdown",
   "id": "7e370bb6-b432-46dc-88ce-851bde0b7d84",
   "metadata": {},
   "source": [
    "Rather than use `lh.return_tips()` all of the time, you can also call `lh.drop_tips()` and pass in specifically where to place the tip, and what channel's tip to drop."
   ]
  },
  {
   "cell_type": "code",
   "execution_count": null,
   "id": "7abad4b7-d3e2-4d45-a33c-651f41b9a590",
   "metadata": {},
   "outputs": [],
   "source": [
    "await lh.drop_tips(tip_spots = tip_rack[\"A1\", \"B2\", \"C3\", \"D4\", \"E5\", \"F6\", \"G7\", \"H8\"],\n",
    "                   use_channels = [0,1,2,3,4,5,6,7])"
   ]
  },
  {
   "cell_type": "markdown",
   "id": "31159c96-4f4a-4abf-9a83-f93bef0da703",
   "metadata": {},
   "source": [
    "The order in which you pass in the `tip_spots` and the `use_channels` lists will determine which channel gets which tip. Take a look!"
   ]
  },
  {
   "cell_type": "code",
   "execution_count": null,
   "id": "52ae208a-cff3-419d-91e4-0293b437871b",
   "metadata": {},
   "outputs": [],
   "source": [
    "await lh.pick_up_tips(tip_spots = tip_rack[\"A1\", 'C3', \"E7\"], use_channels = [2,0,1])"
   ]
  },
  {
   "cell_type": "code",
   "execution_count": null,
   "id": "807b3ba9-57db-483e-aca2-419f439e8520",
   "metadata": {},
   "outputs": [],
   "source": [
    "lh.head"
   ]
  },
  {
   "cell_type": "markdown",
   "id": "e2931c39-74db-4426-9be9-0a702c677489",
   "metadata": {},
   "source": [
    "##### Here are some utility functions that will print the status of tips on the pipetter. If there is a tip on a channel, this function will output its origin."
   ]
  },
  {
   "cell_type": "code",
   "execution_count": null,
   "id": "d579d650-e172-4c58-b9e9-a96262609f60",
   "metadata": {},
   "outputs": [],
   "source": [
    "def print_channels_tip_origin(lh):\n",
    "    # Prints the origin location of all tips currently on the robot\n",
    "    cur_pipetter = lh.head\n",
    "\n",
    "    for channel in cur_pipetter:\n",
    "        print(f\"Channel {channel}:\")\n",
    "\n",
    "        tip_tracker = lh.head[channel]\n",
    "        \n",
    "        if tip_tracker.has_tip == True:\n",
    "            print(tip_tracker.get_tip_origin())\n",
    "        else:\n",
    "            print(\"No tip present.\")\n",
    "        print()"
   ]
  },
  {
   "cell_type": "code",
   "execution_count": null,
   "id": "35530ae2-b0ff-4554-9da3-1b714357b9d7",
   "metadata": {},
   "outputs": [],
   "source": [
    "def print_channel_status(lh):\n",
    "    # Prints the status of liquids, if present, in each channel\n",
    "    cur_pipetter = lh.head\n",
    "\n",
    "    for channel in cur_pipetter:\n",
    "        print(f\"Channel {channel}:\")\n",
    "\n",
    "        tip_tracker = lh.head[channel]\n",
    "        \n",
    "        if tip_tracker.has_tip == True:\n",
    "            tip = tip_tracker.get_tip()\n",
    "            print(tip.tracker.liquids)\n",
    "        else:\n",
    "            print(\"No tip present.\")\n",
    "        print()"
   ]
  },
  {
   "cell_type": "markdown",
   "id": "e1bf911a-d8a0-4369-bcc6-c1924e5fb31d",
   "metadata": {},
   "source": [
    "##### Try it out!"
   ]
  },
  {
   "cell_type": "code",
   "execution_count": null,
   "id": "f4019779-4c85-4d46-8c35-960d26b58618",
   "metadata": {},
   "outputs": [],
   "source": [
    "print_channels_tip_origin(lh)"
   ]
  },
  {
   "cell_type": "code",
   "execution_count": null,
   "id": "8f041cd7-6e04-4156-b253-dc840beac2f0",
   "metadata": {},
   "outputs": [],
   "source": [
    "print_channel_status(lh)"
   ]
  },
  {
   "cell_type": "markdown",
   "id": "60eecc01-1226-4b5e-8a19-f4f55cbfb15c",
   "metadata": {},
   "source": [
    "##### You also don't need to specify channels in order. If you wanted to skip channel 3, we can do so by just passing in the next channel index and skipping 3."
   ]
  },
  {
   "cell_type": "code",
   "execution_count": null,
   "id": "62947627-8930-4bc5-ad97-081f5e157ad7",
   "metadata": {},
   "outputs": [],
   "source": [
    "await lh.pick_up_tips(tip_rack[\"D3\"], use_channels = [4])\n",
    "print(\"\\n\")\n",
    "print(lh.head[4])\n",
    "print(\"\\n\")\n",
    "time.sleep(2)\n",
    "await lh.return_tips()"
   ]
  },
  {
   "cell_type": "code",
   "execution_count": null,
   "id": "a7b792f0-a30f-43dd-9c39-b230b4f3dd52",
   "metadata": {},
   "outputs": [],
   "source": [
    "await lh.drop_tips(tip_spots = tip_rack[\"E7\"], use_channels = [2])"
   ]
  },
  {
   "cell_type": "markdown",
   "id": "110cbad9-a473-4911-ace3-cdcae2bbbba3",
   "metadata": {},
   "source": [
    "##### If you want to check if a spot in the tip rack has a tip, call `TipSpot.has_tip()`. This could be useful if you are writing a script with many operations and want to automatically calculate where you should grab your next tip from."
   ]
  },
  {
   "cell_type": "code",
   "execution_count": null,
   "id": "0b9a66e5-ac0c-456f-aad0-7c3597925da7",
   "metadata": {},
   "outputs": [],
   "source": [
    "tip_rack[\"A1\"][0].has_tip()"
   ]
  },
  {
   "cell_type": "markdown",
   "id": "5ee5ee46-c7af-4a68-a8ab-60e93350639e",
   "metadata": {},
   "source": [
    "#### Let's do a real liquid transfer!"
   ]
  },
  {
   "cell_type": "code",
   "execution_count": null,
   "id": "5f55c2d7-6e9c-4190-a1d7-ef65e7a93915",
   "metadata": {},
   "outputs": [],
   "source": [
    "# Let's try doing a real liquid transfer now! We'll move 200 uL of dye_0 into the plate.\n",
    "\n",
    "# Grab a tip from A1 of the tip rack\n",
    "await lh.pick_up_tips(tip_rack[\"A1\"])\n",
    "\n",
    "# Aspirate 200 uL of dye from A1 of the tube rack\n",
    "await lh.aspirate(tube_rack[\"A1\"], vols=[200])\n",
    "time.sleep(2)\n",
    "\n",
    "# Dispense 200 uL of Dye_1 in A1 of the plate\n",
    "await lh.dispense(plate[\"A1\"], vols=[200])\n",
    "time.sleep(2)\n",
    "\n",
    "# Return tips to the rack. Note, in a real experiment you would discard the tips.\n",
    "# await lh.discard_tips()\n",
    "await lh.return_tips()"
   ]
  },
  {
   "cell_type": "code",
   "execution_count": null,
   "id": "e51ed207-74e3-4ad1-9aa4-7a79ece40016",
   "metadata": {},
   "outputs": [],
   "source": [
    "print_filled_spots_of_labware(plate)"
   ]
  },
  {
   "cell_type": "markdown",
   "id": "ca06d25c-cae0-4295-838d-93f80529855b",
   "metadata": {},
   "source": [
    "#### Cross Contamination Demo"
   ]
  },
  {
   "cell_type": "code",
   "execution_count": null,
   "id": "e29b0a9a-2cd5-49ed-a0ce-0ded46b93cec",
   "metadata": {},
   "outputs": [],
   "source": [
    "# PyLabRobot has a built in feature that will save you if you accidentally aspirate\n",
    "# from a well with a contaminated tip. Recall that the tip in A1 was used for dye_0.\n",
    "# Let's see what happens when we try aspirating dye_1 with the same tip!\n",
    "\n",
    "await lh.pick_up_tips(tip_rack[\"A1\"])\n",
    "time.sleep(1)\n",
    "\n",
    "await lh.aspirate(tube_rack[\"B1\"], vols=[200])\n",
    "time.sleep(1)\n",
    "\n",
    "await lh.dispense(plate[\"B1\"], vols=[200])\n",
    "time.sleep(1)\n",
    "\n",
    "await lh.return_tips()"
   ]
  },
  {
   "cell_type": "markdown",
   "id": "8af2479a-8c47-49e6-85a1-1c5526ab88d3",
   "metadata": {},
   "source": [
    "## 1.1 Exercises:"
   ]
  },
  {
   "cell_type": "markdown",
   "id": "90e62d2f-49eb-456c-8821-c57cc8cbb114",
   "metadata": {},
   "source": [
    "Complete the following operations using the deck we created in the tutorial. As a reminder, there should be a `tip rack on spot 7`, a `tube rack on spot 4`, and a `96 well plate on spot 1`.\n",
    "\n",
    "1. Add `100 uL of Dye_1` to well `A1`.\n",
    "2. Add `200 uL of Dye_2` to well `B7`.\n",
    "3. Add `50 uL of Dye_1` **and** `50 uL of Dye_3` to well `C9`.\n",
    "4. Add `25 uL of Dye 1`, `25 uL of Dye 2`, `25 uL of Dye 3`, and `25 uL of Dye 4` to well `D12`.\n",
    "5. Add `50 uL of Dye 1` and `50 uL of the solution in D12` to well `A3`.\n",
    "6. Add `1800 uL of Dye 1` to well `F12`. *Hint, you have dye on the plate already*\n",
    "\n",
    "**Use multiple tips as needed to avoid `Cross Contamination`**.\n",
    "\n",
    "**Remember to discard used tips in the trash can when finished!**"
   ]
  },
  {
   "cell_type": "code",
   "execution_count": null,
   "id": "77d1d251-cf1b-4fb1-9503-5cbf5d303394",
   "metadata": {},
   "outputs": [],
   "source": [
    "# Problem 1"
   ]
  },
  {
   "cell_type": "code",
   "execution_count": null,
   "id": "c922b9f7-c242-428f-98e0-a196930e2187",
   "metadata": {},
   "outputs": [],
   "source": [
    "# Problem 2"
   ]
  },
  {
   "cell_type": "code",
   "execution_count": null,
   "id": "55dd8e0f-b2d0-4768-819d-5b5b18663dab",
   "metadata": {},
   "outputs": [],
   "source": [
    "# Problem 3"
   ]
  },
  {
   "cell_type": "code",
   "execution_count": null,
   "id": "7994b47d-800e-41e1-ba1b-0358a4e887a2",
   "metadata": {},
   "outputs": [],
   "source": [
    "# Problem 4"
   ]
  },
  {
   "cell_type": "code",
   "execution_count": null,
   "id": "13cd5d93-5958-466c-9bec-6b96168302d2",
   "metadata": {},
   "outputs": [],
   "source": [
    "# Problem 5"
   ]
  },
  {
   "cell_type": "code",
   "execution_count": null,
   "id": "90171620-561a-4cb6-b8f3-9c12790a7c25",
   "metadata": {},
   "outputs": [],
   "source": [
    "# Problem 6"
   ]
  }
 ],
 "metadata": {
  "kernelspec": {
   "display_name": "Python 3 (ipykernel)",
   "language": "python",
   "name": "python3"
  },
  "language_info": {
   "codemirror_mode": {
    "name": "ipython",
    "version": 3
   },
   "file_extension": ".py",
   "mimetype": "text/x-python",
   "name": "python",
   "nbconvert_exporter": "python",
   "pygments_lexer": "ipython3",
   "version": "3.10.4"
  }
 },
 "nbformat": 4,
 "nbformat_minor": 5
}
